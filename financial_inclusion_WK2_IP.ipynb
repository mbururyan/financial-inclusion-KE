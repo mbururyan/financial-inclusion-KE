{
 "cells": [
  {
   "cell_type": "markdown",
   "source": [
    "# Financial Inclusion in East Africa"
   ],
   "metadata": {}
  },
  {
   "cell_type": "markdown",
   "source": [
    "## Data Scientist  - >  Ryan Mburu"
   ],
   "metadata": {}
  },
  {
   "cell_type": "markdown",
   "source": [
    "# Question Definition\n",
    "\n",
    "->  The project aims to find out which individuals in East African countries are most likely to own a bank account, and the key factors that most influence ownership of a bank account."
   ],
   "metadata": {}
  },
  {
   "cell_type": "markdown",
   "source": [
    "# Metric of Success\n",
    "\n",
    "-> Performing various techniques of exploratory data analysis such as univariate, bivariate and multivariate analysis techniques so as to get the most accurate findings possible."
   ],
   "metadata": {}
  },
  {
   "cell_type": "markdown",
   "source": [
    "# Context\n",
    "\n",
    "-> The dataset is based on personal information such as age, cepplphone access and access to a bank account etc on East African residents in Kenya, Tanzania, Uganda and Rwanda. Their personal information is to be used and analyzed so as to assist in predicting which individuals have bank accounts and the factors that most heavily supports this."
   ],
   "metadata": {}
  },
  {
   "cell_type": "markdown",
   "source": [
    "# Experimental design taken\n",
    "\n",
    "-> Data is to be read and understood.\n",
    "\n",
    "-> Cleaned of any null values, anomalies and outliers.\n",
    "\n",
    "-> Reduced using reduction techniques such as LDA and PCA\n",
    "\n",
    "-> Analyzed using univariate, bivariate and multivariate techniques\n",
    "\n",
    "-> Solution outlined and implemented\n",
    "\n",
    "-> Provide insights\n",
    "\n",
    "-> Look up if findings match anything on past analysis on financial inclusivity"
   ],
   "metadata": {}
  },
  {
   "cell_type": "markdown",
   "source": [
    "# Relevance of the data\n",
    "\n",
    "-> The data was extracted from past surveys undertaken in 2016, 2017 and 2018 in Kenya, Tanzania, Uganda and Rwanda. As it is 3 years old, the data is relevant and can act as a blueprint on the current state of financial inclusivity in East Africa\n",
    "\n",
    "-> Browsed the net and found some data from central bank that support the data's integrity and validity\n",
    "\n",
    "-> https://www.centralbank.go.ke/uploads/financial_inclusion/736331048_FinAccess%20%20Household%202016%20Key%20Results%20Report.pdf"
   ],
   "metadata": {}
  },
  {
   "cell_type": "markdown",
   "source": [
    "# Loading the data onto the notebook"
   ],
   "metadata": {}
  },
  {
   "cell_type": "code",
   "execution_count": 4,
   "source": [
    "# Libraries\n",
    "import pandas as pd\n",
    "import numpy as np\n",
    "import matplotlib.pyplot as plt\n",
    "import seaborn as sns"
   ],
   "outputs": [],
   "metadata": {}
  },
  {
   "cell_type": "code",
   "execution_count": 6,
   "source": [
    "# Load in the dataset\n",
    "bank = pd.read_csv('Financial Dataset - 1.csv')\n",
    "bank.head()"
   ],
   "outputs": [
    {
     "output_type": "execute_result",
     "data": {
      "text/html": [
       "<div>\n",
       "<style scoped>\n",
       "    .dataframe tbody tr th:only-of-type {\n",
       "        vertical-align: middle;\n",
       "    }\n",
       "\n",
       "    .dataframe tbody tr th {\n",
       "        vertical-align: top;\n",
       "    }\n",
       "\n",
       "    .dataframe thead th {\n",
       "        text-align: right;\n",
       "    }\n",
       "</style>\n",
       "<table border=\"1\" class=\"dataframe\">\n",
       "  <thead>\n",
       "    <tr style=\"text-align: right;\">\n",
       "      <th></th>\n",
       "      <th>country</th>\n",
       "      <th>year</th>\n",
       "      <th>uniqueid</th>\n",
       "      <th>Has a Bank account</th>\n",
       "      <th>Type of Location</th>\n",
       "      <th>Cell Phone Access</th>\n",
       "      <th>household_size</th>\n",
       "      <th>Respondent Age</th>\n",
       "      <th>gender_of_respondent</th>\n",
       "      <th>The relathip with head</th>\n",
       "      <th>marital_status</th>\n",
       "      <th>Level of Educuation</th>\n",
       "      <th>Type of Job</th>\n",
       "    </tr>\n",
       "  </thead>\n",
       "  <tbody>\n",
       "    <tr>\n",
       "      <th>0</th>\n",
       "      <td>Kenya</td>\n",
       "      <td>2018</td>\n",
       "      <td>uniqueid_1</td>\n",
       "      <td>Yes</td>\n",
       "      <td>Rural</td>\n",
       "      <td>Yes</td>\n",
       "      <td>3.0</td>\n",
       "      <td>24.0</td>\n",
       "      <td>Female</td>\n",
       "      <td>Spouse</td>\n",
       "      <td>Married/Living together</td>\n",
       "      <td>Secondary education</td>\n",
       "      <td>Self employed</td>\n",
       "    </tr>\n",
       "    <tr>\n",
       "      <th>1</th>\n",
       "      <td>Kenya</td>\n",
       "      <td>2018</td>\n",
       "      <td>uniqueid_2</td>\n",
       "      <td>No</td>\n",
       "      <td>Rural</td>\n",
       "      <td>No</td>\n",
       "      <td>5.0</td>\n",
       "      <td>70.0</td>\n",
       "      <td>Female</td>\n",
       "      <td>Head of Household</td>\n",
       "      <td>Widowed</td>\n",
       "      <td>No formal education</td>\n",
       "      <td>Government Dependent</td>\n",
       "    </tr>\n",
       "    <tr>\n",
       "      <th>2</th>\n",
       "      <td>Kenya</td>\n",
       "      <td>2018</td>\n",
       "      <td>uniqueid_3</td>\n",
       "      <td>Yes</td>\n",
       "      <td>Urban</td>\n",
       "      <td>Yes</td>\n",
       "      <td>5.0</td>\n",
       "      <td>26.0</td>\n",
       "      <td>Male</td>\n",
       "      <td>Other relative</td>\n",
       "      <td>Single/Never Married</td>\n",
       "      <td>Vocational/Specialised training</td>\n",
       "      <td>Self employed</td>\n",
       "    </tr>\n",
       "    <tr>\n",
       "      <th>3</th>\n",
       "      <td>Kenya</td>\n",
       "      <td>2018</td>\n",
       "      <td>uniqueid_4</td>\n",
       "      <td>No</td>\n",
       "      <td>Rural</td>\n",
       "      <td>Yes</td>\n",
       "      <td>5.0</td>\n",
       "      <td>34.0</td>\n",
       "      <td>Female</td>\n",
       "      <td>Head of Household</td>\n",
       "      <td>Married/Living together</td>\n",
       "      <td>Primary education</td>\n",
       "      <td>Formally employed Private</td>\n",
       "    </tr>\n",
       "    <tr>\n",
       "      <th>4</th>\n",
       "      <td>Kenya</td>\n",
       "      <td>2018</td>\n",
       "      <td>uniqueid_5</td>\n",
       "      <td>No</td>\n",
       "      <td>Urban</td>\n",
       "      <td>No</td>\n",
       "      <td>8.0</td>\n",
       "      <td>26.0</td>\n",
       "      <td>Male</td>\n",
       "      <td>Child</td>\n",
       "      <td>Single/Never Married</td>\n",
       "      <td>Primary education</td>\n",
       "      <td>Informally employed</td>\n",
       "    </tr>\n",
       "  </tbody>\n",
       "</table>\n",
       "</div>"
      ],
      "text/plain": [
       "  country  year    uniqueid Has a Bank account Type of Location  \\\n",
       "0   Kenya  2018  uniqueid_1                Yes            Rural   \n",
       "1   Kenya  2018  uniqueid_2                 No            Rural   \n",
       "2   Kenya  2018  uniqueid_3                Yes            Urban   \n",
       "3   Kenya  2018  uniqueid_4                 No            Rural   \n",
       "4   Kenya  2018  uniqueid_5                 No            Urban   \n",
       "\n",
       "  Cell Phone Access  household_size  Respondent Age gender_of_respondent  \\\n",
       "0               Yes             3.0            24.0               Female   \n",
       "1                No             5.0            70.0               Female   \n",
       "2               Yes             5.0            26.0                 Male   \n",
       "3               Yes             5.0            34.0               Female   \n",
       "4                No             8.0            26.0                 Male   \n",
       "\n",
       "  The relathip with head           marital_status  \\\n",
       "0                 Spouse  Married/Living together   \n",
       "1      Head of Household                  Widowed   \n",
       "2         Other relative     Single/Never Married   \n",
       "3      Head of Household  Married/Living together   \n",
       "4                  Child     Single/Never Married   \n",
       "\n",
       "               Level of Educuation                Type of Job  \n",
       "0              Secondary education              Self employed  \n",
       "1              No formal education       Government Dependent  \n",
       "2  Vocational/Specialised training              Self employed  \n",
       "3                Primary education  Formally employed Private  \n",
       "4                Primary education        Informally employed  "
      ]
     },
     "metadata": {},
     "execution_count": 6
    }
   ],
   "metadata": {}
  },
  {
   "cell_type": "markdown",
   "source": [
    "# Understand the Data"
   ],
   "metadata": {}
  },
  {
   "cell_type": "code",
   "execution_count": 8,
   "source": [
    "# print out first 5 rows\n",
    "bank.head()"
   ],
   "outputs": [
    {
     "output_type": "execute_result",
     "data": {
      "text/html": [
       "<div>\n",
       "<style scoped>\n",
       "    .dataframe tbody tr th:only-of-type {\n",
       "        vertical-align: middle;\n",
       "    }\n",
       "\n",
       "    .dataframe tbody tr th {\n",
       "        vertical-align: top;\n",
       "    }\n",
       "\n",
       "    .dataframe thead th {\n",
       "        text-align: right;\n",
       "    }\n",
       "</style>\n",
       "<table border=\"1\" class=\"dataframe\">\n",
       "  <thead>\n",
       "    <tr style=\"text-align: right;\">\n",
       "      <th></th>\n",
       "      <th>country</th>\n",
       "      <th>year</th>\n",
       "      <th>uniqueid</th>\n",
       "      <th>Has a Bank account</th>\n",
       "      <th>Type of Location</th>\n",
       "      <th>Cell Phone Access</th>\n",
       "      <th>household_size</th>\n",
       "      <th>Respondent Age</th>\n",
       "      <th>gender_of_respondent</th>\n",
       "      <th>The relathip with head</th>\n",
       "      <th>marital_status</th>\n",
       "      <th>Level of Educuation</th>\n",
       "      <th>Type of Job</th>\n",
       "    </tr>\n",
       "  </thead>\n",
       "  <tbody>\n",
       "    <tr>\n",
       "      <th>0</th>\n",
       "      <td>Kenya</td>\n",
       "      <td>2018</td>\n",
       "      <td>uniqueid_1</td>\n",
       "      <td>Yes</td>\n",
       "      <td>Rural</td>\n",
       "      <td>Yes</td>\n",
       "      <td>3.0</td>\n",
       "      <td>24.0</td>\n",
       "      <td>Female</td>\n",
       "      <td>Spouse</td>\n",
       "      <td>Married/Living together</td>\n",
       "      <td>Secondary education</td>\n",
       "      <td>Self employed</td>\n",
       "    </tr>\n",
       "    <tr>\n",
       "      <th>1</th>\n",
       "      <td>Kenya</td>\n",
       "      <td>2018</td>\n",
       "      <td>uniqueid_2</td>\n",
       "      <td>No</td>\n",
       "      <td>Rural</td>\n",
       "      <td>No</td>\n",
       "      <td>5.0</td>\n",
       "      <td>70.0</td>\n",
       "      <td>Female</td>\n",
       "      <td>Head of Household</td>\n",
       "      <td>Widowed</td>\n",
       "      <td>No formal education</td>\n",
       "      <td>Government Dependent</td>\n",
       "    </tr>\n",
       "    <tr>\n",
       "      <th>2</th>\n",
       "      <td>Kenya</td>\n",
       "      <td>2018</td>\n",
       "      <td>uniqueid_3</td>\n",
       "      <td>Yes</td>\n",
       "      <td>Urban</td>\n",
       "      <td>Yes</td>\n",
       "      <td>5.0</td>\n",
       "      <td>26.0</td>\n",
       "      <td>Male</td>\n",
       "      <td>Other relative</td>\n",
       "      <td>Single/Never Married</td>\n",
       "      <td>Vocational/Specialised training</td>\n",
       "      <td>Self employed</td>\n",
       "    </tr>\n",
       "    <tr>\n",
       "      <th>3</th>\n",
       "      <td>Kenya</td>\n",
       "      <td>2018</td>\n",
       "      <td>uniqueid_4</td>\n",
       "      <td>No</td>\n",
       "      <td>Rural</td>\n",
       "      <td>Yes</td>\n",
       "      <td>5.0</td>\n",
       "      <td>34.0</td>\n",
       "      <td>Female</td>\n",
       "      <td>Head of Household</td>\n",
       "      <td>Married/Living together</td>\n",
       "      <td>Primary education</td>\n",
       "      <td>Formally employed Private</td>\n",
       "    </tr>\n",
       "    <tr>\n",
       "      <th>4</th>\n",
       "      <td>Kenya</td>\n",
       "      <td>2018</td>\n",
       "      <td>uniqueid_5</td>\n",
       "      <td>No</td>\n",
       "      <td>Urban</td>\n",
       "      <td>No</td>\n",
       "      <td>8.0</td>\n",
       "      <td>26.0</td>\n",
       "      <td>Male</td>\n",
       "      <td>Child</td>\n",
       "      <td>Single/Never Married</td>\n",
       "      <td>Primary education</td>\n",
       "      <td>Informally employed</td>\n",
       "    </tr>\n",
       "  </tbody>\n",
       "</table>\n",
       "</div>"
      ],
      "text/plain": [
       "  country  year    uniqueid Has a Bank account Type of Location  \\\n",
       "0   Kenya  2018  uniqueid_1                Yes            Rural   \n",
       "1   Kenya  2018  uniqueid_2                 No            Rural   \n",
       "2   Kenya  2018  uniqueid_3                Yes            Urban   \n",
       "3   Kenya  2018  uniqueid_4                 No            Rural   \n",
       "4   Kenya  2018  uniqueid_5                 No            Urban   \n",
       "\n",
       "  Cell Phone Access  household_size  Respondent Age gender_of_respondent  \\\n",
       "0               Yes             3.0            24.0               Female   \n",
       "1                No             5.0            70.0               Female   \n",
       "2               Yes             5.0            26.0                 Male   \n",
       "3               Yes             5.0            34.0               Female   \n",
       "4                No             8.0            26.0                 Male   \n",
       "\n",
       "  The relathip with head           marital_status  \\\n",
       "0                 Spouse  Married/Living together   \n",
       "1      Head of Household                  Widowed   \n",
       "2         Other relative     Single/Never Married   \n",
       "3      Head of Household  Married/Living together   \n",
       "4                  Child     Single/Never Married   \n",
       "\n",
       "               Level of Educuation                Type of Job  \n",
       "0              Secondary education              Self employed  \n",
       "1              No formal education       Government Dependent  \n",
       "2  Vocational/Specialised training              Self employed  \n",
       "3                Primary education  Formally employed Private  \n",
       "4                Primary education        Informally employed  "
      ]
     },
     "metadata": {},
     "execution_count": 8
    }
   ],
   "metadata": {}
  },
  {
   "cell_type": "code",
   "execution_count": 9,
   "source": [
    "# Last 5 records\n",
    "bank.tail()"
   ],
   "outputs": [
    {
     "output_type": "execute_result",
     "data": {
      "text/html": [
       "<div>\n",
       "<style scoped>\n",
       "    .dataframe tbody tr th:only-of-type {\n",
       "        vertical-align: middle;\n",
       "    }\n",
       "\n",
       "    .dataframe tbody tr th {\n",
       "        vertical-align: top;\n",
       "    }\n",
       "\n",
       "    .dataframe thead th {\n",
       "        text-align: right;\n",
       "    }\n",
       "</style>\n",
       "<table border=\"1\" class=\"dataframe\">\n",
       "  <thead>\n",
       "    <tr style=\"text-align: right;\">\n",
       "      <th></th>\n",
       "      <th>country</th>\n",
       "      <th>year</th>\n",
       "      <th>uniqueid</th>\n",
       "      <th>Has a Bank account</th>\n",
       "      <th>Type of Location</th>\n",
       "      <th>Cell Phone Access</th>\n",
       "      <th>household_size</th>\n",
       "      <th>Respondent Age</th>\n",
       "      <th>gender_of_respondent</th>\n",
       "      <th>The relathip with head</th>\n",
       "      <th>marital_status</th>\n",
       "      <th>Level of Educuation</th>\n",
       "      <th>Type of Job</th>\n",
       "    </tr>\n",
       "  </thead>\n",
       "  <tbody>\n",
       "    <tr>\n",
       "      <th>23519</th>\n",
       "      <td>Uganda</td>\n",
       "      <td>2018</td>\n",
       "      <td>uniqueid_2113</td>\n",
       "      <td>No</td>\n",
       "      <td>Rural</td>\n",
       "      <td>Yes</td>\n",
       "      <td>4.0</td>\n",
       "      <td>48.0</td>\n",
       "      <td>Female</td>\n",
       "      <td>Head of Household</td>\n",
       "      <td>Divorced/Seperated</td>\n",
       "      <td>No formal education</td>\n",
       "      <td>Other Income</td>\n",
       "    </tr>\n",
       "    <tr>\n",
       "      <th>23520</th>\n",
       "      <td>Uganda</td>\n",
       "      <td>2018</td>\n",
       "      <td>uniqueid_2114</td>\n",
       "      <td>No</td>\n",
       "      <td>Rural</td>\n",
       "      <td>Yes</td>\n",
       "      <td>2.0</td>\n",
       "      <td>27.0</td>\n",
       "      <td>Female</td>\n",
       "      <td>Head of Household</td>\n",
       "      <td>Single/Never Married</td>\n",
       "      <td>Secondary education</td>\n",
       "      <td>Other Income</td>\n",
       "    </tr>\n",
       "    <tr>\n",
       "      <th>23521</th>\n",
       "      <td>Uganda</td>\n",
       "      <td>2018</td>\n",
       "      <td>uniqueid_2115</td>\n",
       "      <td>No</td>\n",
       "      <td>Rural</td>\n",
       "      <td>Yes</td>\n",
       "      <td>5.0</td>\n",
       "      <td>27.0</td>\n",
       "      <td>Female</td>\n",
       "      <td>Parent</td>\n",
       "      <td>Widowed</td>\n",
       "      <td>Primary education</td>\n",
       "      <td>Other Income</td>\n",
       "    </tr>\n",
       "    <tr>\n",
       "      <th>23522</th>\n",
       "      <td>Uganda</td>\n",
       "      <td>2018</td>\n",
       "      <td>uniqueid_2116</td>\n",
       "      <td>No</td>\n",
       "      <td>Urban</td>\n",
       "      <td>Yes</td>\n",
       "      <td>7.0</td>\n",
       "      <td>30.0</td>\n",
       "      <td>Female</td>\n",
       "      <td>Parent</td>\n",
       "      <td>Divorced/Seperated</td>\n",
       "      <td>Secondary education</td>\n",
       "      <td>Self employed</td>\n",
       "    </tr>\n",
       "    <tr>\n",
       "      <th>23523</th>\n",
       "      <td>Uganda</td>\n",
       "      <td>2018</td>\n",
       "      <td>uniqueid_2117</td>\n",
       "      <td>No</td>\n",
       "      <td>Rural</td>\n",
       "      <td>Yes</td>\n",
       "      <td>10.0</td>\n",
       "      <td>20.0</td>\n",
       "      <td>Male</td>\n",
       "      <td>Child</td>\n",
       "      <td>Single/Never Married</td>\n",
       "      <td>Secondary education</td>\n",
       "      <td>No Income</td>\n",
       "    </tr>\n",
       "  </tbody>\n",
       "</table>\n",
       "</div>"
      ],
      "text/plain": [
       "      country  year       uniqueid Has a Bank account Type of Location  \\\n",
       "23519  Uganda  2018  uniqueid_2113                 No            Rural   \n",
       "23520  Uganda  2018  uniqueid_2114                 No            Rural   \n",
       "23521  Uganda  2018  uniqueid_2115                 No            Rural   \n",
       "23522  Uganda  2018  uniqueid_2116                 No            Urban   \n",
       "23523  Uganda  2018  uniqueid_2117                 No            Rural   \n",
       "\n",
       "      Cell Phone Access  household_size  Respondent Age gender_of_respondent  \\\n",
       "23519               Yes             4.0            48.0               Female   \n",
       "23520               Yes             2.0            27.0               Female   \n",
       "23521               Yes             5.0            27.0               Female   \n",
       "23522               Yes             7.0            30.0               Female   \n",
       "23523               Yes            10.0            20.0                 Male   \n",
       "\n",
       "      The relathip with head        marital_status  Level of Educuation  \\\n",
       "23519      Head of Household    Divorced/Seperated  No formal education   \n",
       "23520      Head of Household  Single/Never Married  Secondary education   \n",
       "23521                 Parent               Widowed    Primary education   \n",
       "23522                 Parent    Divorced/Seperated  Secondary education   \n",
       "23523                  Child  Single/Never Married  Secondary education   \n",
       "\n",
       "         Type of Job  \n",
       "23519   Other Income  \n",
       "23520   Other Income  \n",
       "23521   Other Income  \n",
       "23522  Self employed  \n",
       "23523      No Income  "
      ]
     },
     "metadata": {},
     "execution_count": 9
    }
   ],
   "metadata": {}
  },
  {
   "cell_type": "code",
   "execution_count": 10,
   "source": [
    "# Number of rows and columns\n",
    "bank.shape"
   ],
   "outputs": [
    {
     "output_type": "execute_result",
     "data": {
      "text/plain": [
       "(23524, 13)"
      ]
     },
     "metadata": {},
     "execution_count": 10
    }
   ],
   "metadata": {}
  },
  {
   "cell_type": "markdown",
   "source": [
    "The dataframe has 23,524 rows and 13 columns"
   ],
   "metadata": {}
  },
  {
   "cell_type": "code",
   "execution_count": 12,
   "source": [
    "# Datatypes\n",
    "bank.dtypes"
   ],
   "outputs": [
    {
     "output_type": "execute_result",
     "data": {
      "text/plain": [
       "country                    object\n",
       "year                        int64\n",
       "uniqueid                   object\n",
       "Has a Bank account         object\n",
       "Type of Location           object\n",
       "Cell Phone Access          object\n",
       "household_size            float64\n",
       "Respondent Age            float64\n",
       "gender_of_respondent       object\n",
       "The relathip with head     object\n",
       "marital_status             object\n",
       "Level of Educuation        object\n",
       "Type of Job                object\n",
       "dtype: object"
      ]
     },
     "metadata": {},
     "execution_count": 12
    }
   ],
   "metadata": {}
  },
  {
   "cell_type": "markdown",
   "source": [
    "# Data Cleaning"
   ],
   "metadata": {}
  },
  {
   "cell_type": "markdown",
   "source": [
    "## Null values"
   ],
   "metadata": {}
  },
  {
   "cell_type": "code",
   "execution_count": 13,
   "source": [
    "# Check for null values\n",
    "bank.isna().sum()"
   ],
   "outputs": [
    {
     "output_type": "execute_result",
     "data": {
      "text/plain": [
       "country                   14\n",
       "year                       0\n",
       "uniqueid                   0\n",
       "Has a Bank account        36\n",
       "Type of Location          15\n",
       "Cell Phone Access         11\n",
       "household_size            28\n",
       "Respondent Age            34\n",
       "gender_of_respondent      34\n",
       "The relathip with head     4\n",
       "marital_status            32\n",
       "Level of Educuation       29\n",
       "Type of Job               30\n",
       "dtype: int64"
      ]
     },
     "metadata": {},
     "execution_count": 13
    }
   ],
   "metadata": {}
  },
  {
   "cell_type": "code",
   "execution_count": 15,
   "source": [
    "#dropping the null values as the data we have is more than sufficient\n",
    "bank.dropna(inplace=True)"
   ],
   "outputs": [],
   "metadata": {}
  },
  {
   "cell_type": "code",
   "execution_count": 16,
   "source": [
    "#check if the dataset has anymore null values\n",
    "bank.isna().sum()"
   ],
   "outputs": [
    {
     "output_type": "execute_result",
     "data": {
      "text/plain": [
       "country                   0\n",
       "year                      0\n",
       "uniqueid                  0\n",
       "Has a Bank account        0\n",
       "Type of Location          0\n",
       "Cell Phone Access         0\n",
       "household_size            0\n",
       "Respondent Age            0\n",
       "gender_of_respondent      0\n",
       "The relathip with head    0\n",
       "marital_status            0\n",
       "Level of Educuation       0\n",
       "Type of Job               0\n",
       "dtype: int64"
      ]
     },
     "metadata": {},
     "execution_count": 16
    }
   ],
   "metadata": {}
  },
  {
   "cell_type": "markdown",
   "source": [
    "## Duplicate values"
   ],
   "metadata": {}
  },
  {
   "cell_type": "code",
   "execution_count": 19,
   "source": [
    "# Drop duplicates\n",
    "bank.drop_duplicates(inplace=True)"
   ],
   "outputs": [],
   "metadata": {}
  },
  {
   "cell_type": "code",
   "execution_count": 20,
   "source": [
    "# New dataframe and records present\n",
    "bank.shape"
   ],
   "outputs": [
    {
     "output_type": "execute_result",
     "data": {
      "text/plain": [
       "(23343, 13)"
      ]
     },
     "metadata": {},
     "execution_count": 20
    }
   ],
   "metadata": {}
  },
  {
   "cell_type": "markdown",
   "source": [
    "Only 200 records were dropped and 23,000 records will be used in analysis"
   ],
   "metadata": {}
  },
  {
   "cell_type": "markdown",
   "source": [
    "## Outliers"
   ],
   "metadata": {}
  },
  {
   "cell_type": "code",
   "execution_count": 37,
   "source": [
    "# check for outliers\n",
    "\n",
    "# Will use boxplots on the numerical columns\n",
    "\n",
    "# Outliers for household size\n",
    "\n",
    "sns.boxplot(x = bank['household_size'], showmeans=True)\n",
    "plt.title('Boxplot on size of households')"
   ],
   "outputs": [
    {
     "output_type": "execute_result",
     "data": {
      "text/plain": [
       "Text(0.5, 1.0, 'Boxplot on size of households')"
      ]
     },
     "metadata": {},
     "execution_count": 37
    },
    {
     "output_type": "display_data",
     "data": {
      "image/png": "[encoded data removed]",
      "text/plain": [
       "<Figure size 432x288 with 1 Axes>"
      ]
     },
     "metadata": {
      "needs_background": "light"
     }
    }
   ],
   "metadata": {}
  },
  {
   "cell_type": "markdown",
   "source": [
    "Outliers will be allowed in household size column as in the dataset they can represent houses with very many residents / rich families"
   ],
   "metadata": {}
  },
  {
   "cell_type": "code",
   "execution_count": 39,
   "source": [
    "# outliers for ages of respondents to the survey\n",
    "sns.boxplot(x = bank['respondent_age'], showmeans=True)\n",
    "plt.title('Boxplot on age of respondents to the survey')"
   ],
   "outputs": [
    {
     "output_type": "execute_result",
     "data": {
      "text/plain": [
       "Text(0.5, 1.0, 'Boxplot on age of respondents to the survey')"
      ]
     },
     "metadata": {},
     "execution_count": 39
    },
    {
     "output_type": "display_data",
     "data": {
      "image/png": "[encoded data removed]",
      "text/plain": [
       "<Figure size 432x288 with 1 Axes>"
      ]
     },
     "metadata": {
      "needs_background": "light"
     }
    }
   ],
   "metadata": {}
  },
  {
   "cell_type": "markdown",
   "source": [
    "Outliers will not be handled as they represent the elderly, and this study shows people in East Africa, regardless of their age"
   ],
   "metadata": {}
  },
  {
   "cell_type": "markdown",
   "source": [
    "## Column names"
   ],
   "metadata": {}
  },
  {
   "cell_type": "code",
   "execution_count": 31,
   "source": [
    "# Renaming column names\n",
    "\n",
    "# Everything lowercase\n",
    "\n",
    "bank.columns = map(str.lower, bank.columns)"
   ],
   "outputs": [],
   "metadata": {}
  },
  {
   "cell_type": "code",
   "execution_count": 35,
   "source": [
    "# replace space with underscores\n",
    "bank.columns = bank.columns.str.replace(' ', '_')"
   ],
   "outputs": [],
   "metadata": {}
  },
  {
   "cell_type": "code",
   "execution_count": 36,
   "source": [
    "#Preview new dataset\n",
    "bank.head()"
   ],
   "outputs": [
    {
     "output_type": "execute_result",
     "data": {
      "text/html": [
       "<div>\n",
       "<style scoped>\n",
       "    .dataframe tbody tr th:only-of-type {\n",
       "        vertical-align: middle;\n",
       "    }\n",
       "\n",
       "    .dataframe tbody tr th {\n",
       "        vertical-align: top;\n",
       "    }\n",
       "\n",
       "    .dataframe thead th {\n",
       "        text-align: right;\n",
       "    }\n",
       "</style>\n",
       "<table border=\"1\" class=\"dataframe\">\n",
       "  <thead>\n",
       "    <tr style=\"text-align: right;\">\n",
       "      <th></th>\n",
       "      <th>country</th>\n",
       "      <th>year</th>\n",
       "      <th>uniqueid</th>\n",
       "      <th>has_a_bank_account</th>\n",
       "      <th>type_of_location</th>\n",
       "      <th>cell_phone_access</th>\n",
       "      <th>household_size</th>\n",
       "      <th>respondent_age</th>\n",
       "      <th>gender_of_respondent</th>\n",
       "      <th>the_relathip_with_head</th>\n",
       "      <th>marital_status</th>\n",
       "      <th>level_of_educuation</th>\n",
       "      <th>type_of_job</th>\n",
       "    </tr>\n",
       "  </thead>\n",
       "  <tbody>\n",
       "    <tr>\n",
       "      <th>0</th>\n",
       "      <td>Kenya</td>\n",
       "      <td>2018</td>\n",
       "      <td>uniqueid_1</td>\n",
       "      <td>Yes</td>\n",
       "      <td>Rural</td>\n",
       "      <td>Yes</td>\n",
       "      <td>3.0</td>\n",
       "      <td>24.0</td>\n",
       "      <td>Female</td>\n",
       "      <td>Spouse</td>\n",
       "      <td>Married/Living together</td>\n",
       "      <td>Secondary education</td>\n",
       "      <td>Self employed</td>\n",
       "    </tr>\n",
       "    <tr>\n",
       "      <th>1</th>\n",
       "      <td>Kenya</td>\n",
       "      <td>2018</td>\n",
       "      <td>uniqueid_2</td>\n",
       "      <td>No</td>\n",
       "      <td>Rural</td>\n",
       "      <td>No</td>\n",
       "      <td>5.0</td>\n",
       "      <td>70.0</td>\n",
       "      <td>Female</td>\n",
       "      <td>Head of Household</td>\n",
       "      <td>Widowed</td>\n",
       "      <td>No formal education</td>\n",
       "      <td>Government Dependent</td>\n",
       "    </tr>\n",
       "    <tr>\n",
       "      <th>2</th>\n",
       "      <td>Kenya</td>\n",
       "      <td>2018</td>\n",
       "      <td>uniqueid_3</td>\n",
       "      <td>Yes</td>\n",
       "      <td>Urban</td>\n",
       "      <td>Yes</td>\n",
       "      <td>5.0</td>\n",
       "      <td>26.0</td>\n",
       "      <td>Male</td>\n",
       "      <td>Other relative</td>\n",
       "      <td>Single/Never Married</td>\n",
       "      <td>Vocational/Specialised training</td>\n",
       "      <td>Self employed</td>\n",
       "    </tr>\n",
       "    <tr>\n",
       "      <th>3</th>\n",
       "      <td>Kenya</td>\n",
       "      <td>2018</td>\n",
       "      <td>uniqueid_4</td>\n",
       "      <td>No</td>\n",
       "      <td>Rural</td>\n",
       "      <td>Yes</td>\n",
       "      <td>5.0</td>\n",
       "      <td>34.0</td>\n",
       "      <td>Female</td>\n",
       "      <td>Head of Household</td>\n",
       "      <td>Married/Living together</td>\n",
       "      <td>Primary education</td>\n",
       "      <td>Formally employed Private</td>\n",
       "    </tr>\n",
       "    <tr>\n",
       "      <th>4</th>\n",
       "      <td>Kenya</td>\n",
       "      <td>2018</td>\n",
       "      <td>uniqueid_5</td>\n",
       "      <td>No</td>\n",
       "      <td>Urban</td>\n",
       "      <td>No</td>\n",
       "      <td>8.0</td>\n",
       "      <td>26.0</td>\n",
       "      <td>Male</td>\n",
       "      <td>Child</td>\n",
       "      <td>Single/Never Married</td>\n",
       "      <td>Primary education</td>\n",
       "      <td>Informally employed</td>\n",
       "    </tr>\n",
       "  </tbody>\n",
       "</table>\n",
       "</div>"
      ],
      "text/plain": [
       "  country  year    uniqueid has_a_bank_account type_of_location  \\\n",
       "0   Kenya  2018  uniqueid_1                Yes            Rural   \n",
       "1   Kenya  2018  uniqueid_2                 No            Rural   \n",
       "2   Kenya  2018  uniqueid_3                Yes            Urban   \n",
       "3   Kenya  2018  uniqueid_4                 No            Rural   \n",
       "4   Kenya  2018  uniqueid_5                 No            Urban   \n",
       "\n",
       "  cell_phone_access  household_size  respondent_age gender_of_respondent  \\\n",
       "0               Yes             3.0            24.0               Female   \n",
       "1                No             5.0            70.0               Female   \n",
       "2               Yes             5.0            26.0                 Male   \n",
       "3               Yes             5.0            34.0               Female   \n",
       "4                No             8.0            26.0                 Male   \n",
       "\n",
       "  the_relathip_with_head           marital_status  \\\n",
       "0                 Spouse  Married/Living together   \n",
       "1      Head of Household                  Widowed   \n",
       "2         Other relative     Single/Never Married   \n",
       "3      Head of Household  Married/Living together   \n",
       "4                  Child     Single/Never Married   \n",
       "\n",
       "               level_of_educuation                type_of_job  \n",
       "0              Secondary education              Self employed  \n",
       "1              No formal education       Government Dependent  \n",
       "2  Vocational/Specialised training              Self employed  \n",
       "3                Primary education  Formally employed Private  \n",
       "4                Primary education        Informally employed  "
      ]
     },
     "metadata": {},
     "execution_count": 36
    }
   ],
   "metadata": {}
  },
  {
   "cell_type": "markdown",
   "source": [
    "# Exploratory data Analysis"
   ],
   "metadata": {}
  },
  {
   "cell_type": "markdown",
   "source": [
    "# Univariate Analysis"
   ],
   "metadata": {}
  },
  {
   "cell_type": "markdown",
   "source": [
    "## Central Tendancy of the numerical variables"
   ],
   "metadata": {}
  },
  {
   "cell_type": "markdown",
   "source": [
    "## 1. Mean"
   ],
   "metadata": {}
  },
  {
   "cell_type": "code",
   "execution_count": 40,
   "source": [
    "# Calculating the average size of households & ages of respondents in East Africa\n",
    "\n",
    "# Function\n",
    "def mean(dataframe, column):\n",
    "    return dataframe[column].mean()"
   ],
   "outputs": [],
   "metadata": {}
  },
  {
   "cell_type": "code",
   "execution_count": 41,
   "source": [
    "# Age\n",
    "mean(bank, 'respondent_age')\n",
    "\n",
    "# Average age is 38 years "
   ],
   "outputs": [
    {
     "output_type": "execute_result",
     "data": {
      "text/plain": [
       "38.80550914621085"
      ]
     },
     "metadata": {},
     "execution_count": 41
    }
   ],
   "metadata": {}
  },
  {
   "cell_type": "code",
   "execution_count": 42,
   "source": [
    "# Size of household\n",
    "mean(bank, 'household_size')\n",
    "\n",
    "# Average size of households in EA is 3-4 persons per household"
   ],
   "outputs": [
    {
     "output_type": "execute_result",
     "data": {
      "text/plain": [
       "3.6886432763569377"
      ]
     },
     "metadata": {},
     "execution_count": 42
    }
   ],
   "metadata": {}
  },
  {
   "cell_type": "markdown",
   "source": [
    "## 2. Mode"
   ],
   "metadata": {}
  },
  {
   "cell_type": "code",
   "execution_count": 44,
   "source": [
    "def mode(dataframe, column):\n",
    "    return dataframe[column].mode()"
   ],
   "outputs": [],
   "metadata": {}
  },
  {
   "cell_type": "code",
   "execution_count": 45,
   "source": [
    "# Age\n",
    "mode(bank, 'respondent_age')\n",
    "\n",
    "# Age that appears most times is 30 years old"
   ],
   "outputs": [
    {
     "output_type": "execute_result",
     "data": {
      "text/plain": [
       "0    30.0\n",
       "dtype: float64"
      ]
     },
     "metadata": {},
     "execution_count": 45
    }
   ],
   "metadata": {}
  },
  {
   "cell_type": "code",
   "execution_count": 46,
   "source": [
    "# Size of household\n",
    "mode(bank, 'household_size')\n",
    "\n",
    "# Modal size of households is 2"
   ],
   "outputs": [
    {
     "output_type": "execute_result",
     "data": {
      "text/plain": [
       "0    2.0\n",
       "dtype: float64"
      ]
     },
     "metadata": {},
     "execution_count": 46
    }
   ],
   "metadata": {}
  },
  {
   "cell_type": "markdown",
   "source": [
    "## 3. Median"
   ],
   "metadata": {}
  },
  {
   "cell_type": "code",
   "execution_count": 48,
   "source": [
    "def median(dataframe, column):\n",
    "    return dataframe[column].median()"
   ],
   "outputs": [],
   "metadata": {}
  },
  {
   "cell_type": "code",
   "execution_count": 49,
   "source": [
    "# Age\n",
    "median(bank, 'respondent_age')"
   ],
   "outputs": [
    {
     "output_type": "execute_result",
     "data": {
      "text/plain": [
       "35.0"
      ]
     },
     "metadata": {},
     "execution_count": 49
    }
   ],
   "metadata": {}
  },
  {
   "cell_type": "code",
   "execution_count": 50,
   "source": [
    "# Size of household\n",
    "median(bank, 'household_size')"
   ],
   "outputs": [
    {
     "output_type": "execute_result",
     "data": {
      "text/plain": [
       "3.0"
      ]
     },
     "metadata": {},
     "execution_count": 50
    }
   ],
   "metadata": {}
  },
  {
   "cell_type": "markdown",
   "source": [
    "## Dispersion\n",
    "\n",
    "- Will show all measures of dispersion such as :\n",
    "1. Variance\n",
    "2. Standard dev\n",
    "3. Kurtosis\n",
    "4. Range\n",
    "5. Quantiles"
   ],
   "metadata": {}
  },
  {
   "cell_type": "markdown",
   "source": [
    "## 1. Summary"
   ],
   "metadata": {}
  },
  {
   "cell_type": "code",
   "execution_count": 52,
   "source": [
    "# Ages quantiles\n",
    "bank['respondent_age'].describe()"
   ],
   "outputs": [
    {
     "output_type": "execute_result",
     "data": {
      "text/plain": [
       "count    23343.000000\n",
       "mean        38.805509\n",
       "std         16.519803\n",
       "min         16.000000\n",
       "25%         26.000000\n",
       "50%         35.000000\n",
       "75%         49.000000\n",
       "max        100.000000\n",
       "Name: respondent_age, dtype: float64"
      ]
     },
     "metadata": {},
     "execution_count": 52
    }
   ],
   "metadata": {}
  },
  {
   "cell_type": "markdown",
   "source": [
    "## 2. Quantiles"
   ],
   "metadata": {}
  },
  {
   "cell_type": "code",
   "execution_count": 53,
   "source": [
    "# Ages\n",
    "bank['respondent_age'].quantile([0.25, 0.5, 0.75])"
   ],
   "outputs": [
    {
     "output_type": "execute_result",
     "data": {
      "text/plain": [
       "0.25    26.0\n",
       "0.50    35.0\n",
       "0.75    49.0\n",
       "Name: respondent_age, dtype: float64"
      ]
     },
     "metadata": {},
     "execution_count": 53
    }
   ],
   "metadata": {}
  },
  {
   "cell_type": "code",
   "execution_count": 54,
   "source": [
    "# Household size\n",
    "bank['household_size'].quantile([0.25, 0.5, 0.75])"
   ],
   "outputs": [
    {
     "output_type": "execute_result",
     "data": {
      "text/plain": [
       "0.25    2.0\n",
       "0.50    3.0\n",
       "0.75    5.0\n",
       "Name: household_size, dtype: float64"
      ]
     },
     "metadata": {},
     "execution_count": 54
    }
   ],
   "metadata": {}
  },
  {
   "cell_type": "markdown",
   "source": [
    "## 3. Range"
   ],
   "metadata": {}
  },
  {
   "cell_type": "code",
   "execution_count": 55,
   "source": [
    "# ages\n",
    "max_age = bank['respondent_age'].max()\n",
    "min_age = bank['respondent_age'].min()\n",
    "\n",
    "max_age - min_age\n",
    "\n",
    "# range is 84 years"
   ],
   "outputs": [
    {
     "output_type": "execute_result",
     "data": {
      "text/plain": [
       "84.0"
      ]
     },
     "metadata": {},
     "execution_count": 55
    }
   ],
   "metadata": {}
  },
  {
   "cell_type": "code",
   "execution_count": 56,
   "source": [
    "# household size\n",
    "max_household = bank['household_size'].max()\n",
    "min_household = bank['household_size'].min()\n",
    "\n",
    "max_household - min_household\n",
    "\n",
    "# range is 21"
   ],
   "outputs": [
    {
     "output_type": "execute_result",
     "data": {
      "text/plain": [
       "21.0"
      ]
     },
     "metadata": {},
     "execution_count": 56
    }
   ],
   "metadata": {}
  },
  {
   "cell_type": "markdown",
   "source": [
    "## 4. Variance"
   ],
   "metadata": {}
  },
  {
   "cell_type": "code",
   "execution_count": 57,
   "source": [
    "# Ages\n",
    "bank['respondent_age'].var()"
   ],
   "outputs": [
    {
     "output_type": "execute_result",
     "data": {
      "text/plain": [
       "272.90390761391353"
      ]
     },
     "metadata": {},
     "execution_count": 57
    }
   ],
   "metadata": {}
  },
  {
   "cell_type": "code",
   "execution_count": 58,
   "source": [
    "# Household size\n",
    "bank['household_size'].var()"
   ],
   "outputs": [
    {
     "output_type": "execute_result",
     "data": {
      "text/plain": [
       "5.20379827489179"
      ]
     },
     "metadata": {},
     "execution_count": 58
    }
   ],
   "metadata": {}
  },
  {
   "cell_type": "markdown",
   "source": [
    "## 5. Standard Dev"
   ],
   "metadata": {}
  },
  {
   "cell_type": "code",
   "execution_count": 59,
   "source": [
    "# Ages\n",
    "bank['respondent_age'].std()"
   ],
   "outputs": [
    {
     "output_type": "execute_result",
     "data": {
      "text/plain": [
       "16.51980349804178"
      ]
     },
     "metadata": {},
     "execution_count": 59
    }
   ],
   "metadata": {}
  },
  {
   "cell_type": "code",
   "execution_count": 61,
   "source": [
    "# Household size\n",
    "bank['household_size'].std()"
   ],
   "outputs": [
    {
     "output_type": "execute_result",
     "data": {
      "text/plain": [
       "2.2811835250351495"
      ]
     },
     "metadata": {},
     "execution_count": 61
    }
   ],
   "metadata": {}
  },
  {
   "cell_type": "markdown",
   "source": [
    "## 6. Skewness"
   ],
   "metadata": {}
  },
  {
   "cell_type": "code",
   "execution_count": 62,
   "source": [
    "# Ages\n",
    "bank['respondent_age'].skew()"
   ],
   "outputs": [
    {
     "output_type": "execute_result",
     "data": {
      "text/plain": [
       "0.840661747532081"
      ]
     },
     "metadata": {},
     "execution_count": 62
    }
   ],
   "metadata": {}
  },
  {
   "cell_type": "code",
   "execution_count": 63,
   "source": [
    "# Household size\n",
    "bank['household_size'].skew()"
   ],
   "outputs": [
    {
     "output_type": "execute_result",
     "data": {
      "text/plain": [
       "0.9741086837897069"
      ]
     },
     "metadata": {},
     "execution_count": 63
    }
   ],
   "metadata": {}
  },
  {
   "cell_type": "markdown",
   "source": [
    "## 7. Kurtosis"
   ],
   "metadata": {}
  },
  {
   "cell_type": "code",
   "execution_count": 64,
   "source": [
    "# Ages\n",
    "bank['respondent_age'].kurt()"
   ],
   "outputs": [
    {
     "output_type": "execute_result",
     "data": {
      "text/plain": [
       "0.09844652254807196"
      ]
     },
     "metadata": {},
     "execution_count": 64
    }
   ],
   "metadata": {}
  },
  {
   "cell_type": "code",
   "execution_count": 67,
   "source": [
    "# Household size\n",
    "bank['household_size'].kurt()"
   ],
   "outputs": [
    {
     "output_type": "execute_result",
     "data": {
      "text/plain": [
       "1.1538690689335573"
      ]
     },
     "metadata": {},
     "execution_count": 67
    }
   ],
   "metadata": {}
  },
  {
   "cell_type": "markdown",
   "source": [
    "## Plotting"
   ],
   "metadata": {}
  },
  {
   "cell_type": "markdown",
   "source": [
    "## Histogram"
   ],
   "metadata": {}
  },
  {
   "cell_type": "markdown",
   "source": [
    "## 1. In East Africa"
   ],
   "metadata": {}
  },
  {
   "cell_type": "code",
   "execution_count": 69,
   "source": [
    "bank['household_size'].hist()\n",
    "plt.title('Histogram of Household sizes in East Africa')\n",
    "plt.xlabel('Size of household')\n",
    "plt.ylabel('Number of respondents')"
   ],
   "outputs": [
    {
     "output_type": "execute_result",
     "data": {
      "text/plain": [
       "Text(0, 0.5, 'Number of respondents')"
      ]
     },
     "metadata": {},
     "execution_count": 69
    },
    {
     "output_type": "display_data",
     "data": {
      "image/png": "[encoded data removed]",
      "text/plain": [
       "<Figure size 432x288 with 1 Axes>"
      ]
     },
     "metadata": {
      "needs_background": "light"
     }
    }
   ],
   "metadata": {}
  },
  {
   "cell_type": "code",
   "execution_count": 88,
   "source": [
    "# Setting apart records by country"
   ],
   "outputs": [],
   "metadata": {}
  },
  {
   "cell_type": "code",
   "execution_count": 95,
   "source": [
    "# Kenyan respondents\n",
    "bank_kenya = bank[bank['country'] == 'Kenya']\n",
    "bank_kenya.head()"
   ],
   "outputs": [
    {
     "output_type": "execute_result",
     "data": {
      "text/html": [
       "<div>\n",
       "<style scoped>\n",
       "    .dataframe tbody tr th:only-of-type {\n",
       "        vertical-align: middle;\n",
       "    }\n",
       "\n",
       "    .dataframe tbody tr th {\n",
       "        vertical-align: top;\n",
       "    }\n",
       "\n",
       "    .dataframe thead th {\n",
       "        text-align: right;\n",
       "    }\n",
       "</style>\n",
       "<table border=\"1\" class=\"dataframe\">\n",
       "  <thead>\n",
       "    <tr style=\"text-align: right;\">\n",
       "      <th></th>\n",
       "      <th>country</th>\n",
       "      <th>year</th>\n",
       "      <th>uniqueid</th>\n",
       "      <th>has_a_bank_account</th>\n",
       "      <th>type_of_location</th>\n",
       "      <th>cell_phone_access</th>\n",
       "      <th>household_size</th>\n",
       "      <th>respondent_age</th>\n",
       "      <th>gender_of_respondent</th>\n",
       "      <th>the_relathip_with_head</th>\n",
       "      <th>marital_status</th>\n",
       "      <th>level_of_educuation</th>\n",
       "      <th>type_of_job</th>\n",
       "    </tr>\n",
       "  </thead>\n",
       "  <tbody>\n",
       "    <tr>\n",
       "      <th>0</th>\n",
       "      <td>Kenya</td>\n",
       "      <td>2018</td>\n",
       "      <td>uniqueid_1</td>\n",
       "      <td>Yes</td>\n",
       "      <td>Rural</td>\n",
       "      <td>Yes</td>\n",
       "      <td>3.0</td>\n",
       "      <td>24.0</td>\n",
       "      <td>Female</td>\n",
       "      <td>Spouse</td>\n",
       "      <td>Married/Living together</td>\n",
       "      <td>Secondary education</td>\n",
       "      <td>Self employed</td>\n",
       "    </tr>\n",
       "    <tr>\n",
       "      <th>1</th>\n",
       "      <td>Kenya</td>\n",
       "      <td>2018</td>\n",
       "      <td>uniqueid_2</td>\n",
       "      <td>No</td>\n",
       "      <td>Rural</td>\n",
       "      <td>No</td>\n",
       "      <td>5.0</td>\n",
       "      <td>70.0</td>\n",
       "      <td>Female</td>\n",
       "      <td>Head of Household</td>\n",
       "      <td>Widowed</td>\n",
       "      <td>No formal education</td>\n",
       "      <td>Government Dependent</td>\n",
       "    </tr>\n",
       "    <tr>\n",
       "      <th>2</th>\n",
       "      <td>Kenya</td>\n",
       "      <td>2018</td>\n",
       "      <td>uniqueid_3</td>\n",
       "      <td>Yes</td>\n",
       "      <td>Urban</td>\n",
       "      <td>Yes</td>\n",
       "      <td>5.0</td>\n",
       "      <td>26.0</td>\n",
       "      <td>Male</td>\n",
       "      <td>Other relative</td>\n",
       "      <td>Single/Never Married</td>\n",
       "      <td>Vocational/Specialised training</td>\n",
       "      <td>Self employed</td>\n",
       "    </tr>\n",
       "    <tr>\n",
       "      <th>3</th>\n",
       "      <td>Kenya</td>\n",
       "      <td>2018</td>\n",
       "      <td>uniqueid_4</td>\n",
       "      <td>No</td>\n",
       "      <td>Rural</td>\n",
       "      <td>Yes</td>\n",
       "      <td>5.0</td>\n",
       "      <td>34.0</td>\n",
       "      <td>Female</td>\n",
       "      <td>Head of Household</td>\n",
       "      <td>Married/Living together</td>\n",
       "      <td>Primary education</td>\n",
       "      <td>Formally employed Private</td>\n",
       "    </tr>\n",
       "    <tr>\n",
       "      <th>4</th>\n",
       "      <td>Kenya</td>\n",
       "      <td>2018</td>\n",
       "      <td>uniqueid_5</td>\n",
       "      <td>No</td>\n",
       "      <td>Urban</td>\n",
       "      <td>No</td>\n",
       "      <td>8.0</td>\n",
       "      <td>26.0</td>\n",
       "      <td>Male</td>\n",
       "      <td>Child</td>\n",
       "      <td>Single/Never Married</td>\n",
       "      <td>Primary education</td>\n",
       "      <td>Informally employed</td>\n",
       "    </tr>\n",
       "  </tbody>\n",
       "</table>\n",
       "</div>"
      ],
      "text/plain": [
       "  country  year    uniqueid has_a_bank_account type_of_location  \\\n",
       "0   Kenya  2018  uniqueid_1                Yes            Rural   \n",
       "1   Kenya  2018  uniqueid_2                 No            Rural   \n",
       "2   Kenya  2018  uniqueid_3                Yes            Urban   \n",
       "3   Kenya  2018  uniqueid_4                 No            Rural   \n",
       "4   Kenya  2018  uniqueid_5                 No            Urban   \n",
       "\n",
       "  cell_phone_access  household_size  respondent_age gender_of_respondent  \\\n",
       "0               Yes             3.0            24.0               Female   \n",
       "1                No             5.0            70.0               Female   \n",
       "2               Yes             5.0            26.0                 Male   \n",
       "3               Yes             5.0            34.0               Female   \n",
       "4                No             8.0            26.0                 Male   \n",
       "\n",
       "  the_relathip_with_head           marital_status  \\\n",
       "0                 Spouse  Married/Living together   \n",
       "1      Head of Household                  Widowed   \n",
       "2         Other relative     Single/Never Married   \n",
       "3      Head of Household  Married/Living together   \n",
       "4                  Child     Single/Never Married   \n",
       "\n",
       "               level_of_educuation                type_of_job  \n",
       "0              Secondary education              Self employed  \n",
       "1              No formal education       Government Dependent  \n",
       "2  Vocational/Specialised training              Self employed  \n",
       "3                Primary education  Formally employed Private  \n",
       "4                Primary education        Informally employed  "
      ]
     },
     "metadata": {},
     "execution_count": 95
    }
   ],
   "metadata": {}
  },
  {
   "cell_type": "code",
   "execution_count": 96,
   "source": [
    "# Tanzanian respondents\n",
    "bank_tz = bank[bank['country'] == 'Tanzania']\n",
    "bank_tz.head()"
   ],
   "outputs": [
    {
     "output_type": "execute_result",
     "data": {
      "text/html": [
       "<div>\n",
       "<style scoped>\n",
       "    .dataframe tbody tr th:only-of-type {\n",
       "        vertical-align: middle;\n",
       "    }\n",
       "\n",
       "    .dataframe tbody tr th {\n",
       "        vertical-align: top;\n",
       "    }\n",
       "\n",
       "    .dataframe thead th {\n",
       "        text-align: right;\n",
       "    }\n",
       "</style>\n",
       "<table border=\"1\" class=\"dataframe\">\n",
       "  <thead>\n",
       "    <tr style=\"text-align: right;\">\n",
       "      <th></th>\n",
       "      <th>country</th>\n",
       "      <th>year</th>\n",
       "      <th>uniqueid</th>\n",
       "      <th>has_a_bank_account</th>\n",
       "      <th>type_of_location</th>\n",
       "      <th>cell_phone_access</th>\n",
       "      <th>household_size</th>\n",
       "      <th>respondent_age</th>\n",
       "      <th>gender_of_respondent</th>\n",
       "      <th>the_relathip_with_head</th>\n",
       "      <th>marital_status</th>\n",
       "      <th>level_of_educuation</th>\n",
       "      <th>type_of_job</th>\n",
       "    </tr>\n",
       "  </thead>\n",
       "  <tbody>\n",
       "    <tr>\n",
       "      <th>14803</th>\n",
       "      <td>Tanzania</td>\n",
       "      <td>2017</td>\n",
       "      <td>uniqueid_1</td>\n",
       "      <td>No</td>\n",
       "      <td>Rural</td>\n",
       "      <td>Yes</td>\n",
       "      <td>1.0</td>\n",
       "      <td>22.0</td>\n",
       "      <td>Female</td>\n",
       "      <td>Child</td>\n",
       "      <td>Divorced/Seperated</td>\n",
       "      <td>Secondary education</td>\n",
       "      <td>No Income</td>\n",
       "    </tr>\n",
       "    <tr>\n",
       "      <th>14804</th>\n",
       "      <td>Tanzania</td>\n",
       "      <td>2017</td>\n",
       "      <td>uniqueid_2</td>\n",
       "      <td>No</td>\n",
       "      <td>Urban</td>\n",
       "      <td>No</td>\n",
       "      <td>2.0</td>\n",
       "      <td>100.0</td>\n",
       "      <td>Male</td>\n",
       "      <td>Head of Household</td>\n",
       "      <td>Single/Never Married</td>\n",
       "      <td>No formal education</td>\n",
       "      <td>Self employed</td>\n",
       "    </tr>\n",
       "    <tr>\n",
       "      <th>14805</th>\n",
       "      <td>Tanzania</td>\n",
       "      <td>2017</td>\n",
       "      <td>uniqueid_3</td>\n",
       "      <td>No</td>\n",
       "      <td>Urban</td>\n",
       "      <td>Yes</td>\n",
       "      <td>3.0</td>\n",
       "      <td>19.0</td>\n",
       "      <td>Female</td>\n",
       "      <td>Head of Household</td>\n",
       "      <td>Widowed</td>\n",
       "      <td>No formal education</td>\n",
       "      <td>No Income</td>\n",
       "    </tr>\n",
       "    <tr>\n",
       "      <th>14806</th>\n",
       "      <td>Tanzania</td>\n",
       "      <td>2017</td>\n",
       "      <td>uniqueid_4</td>\n",
       "      <td>No</td>\n",
       "      <td>Urban</td>\n",
       "      <td>No</td>\n",
       "      <td>4.0</td>\n",
       "      <td>21.0</td>\n",
       "      <td>Female</td>\n",
       "      <td>Parent</td>\n",
       "      <td>Single/Never Married</td>\n",
       "      <td>Primary education</td>\n",
       "      <td>Remittance Dependent</td>\n",
       "    </tr>\n",
       "    <tr>\n",
       "      <th>14807</th>\n",
       "      <td>Tanzania</td>\n",
       "      <td>2017</td>\n",
       "      <td>uniqueid_5</td>\n",
       "      <td>Yes</td>\n",
       "      <td>Urban</td>\n",
       "      <td>Yes</td>\n",
       "      <td>3.0</td>\n",
       "      <td>24.0</td>\n",
       "      <td>Female</td>\n",
       "      <td>Parent</td>\n",
       "      <td>Divorced/Seperated</td>\n",
       "      <td>Tertiary education</td>\n",
       "      <td>Formally employed Private</td>\n",
       "    </tr>\n",
       "  </tbody>\n",
       "</table>\n",
       "</div>"
      ],
      "text/plain": [
       "        country  year    uniqueid has_a_bank_account type_of_location  \\\n",
       "14803  Tanzania  2017  uniqueid_1                 No            Rural   \n",
       "14804  Tanzania  2017  uniqueid_2                 No            Urban   \n",
       "14805  Tanzania  2017  uniqueid_3                 No            Urban   \n",
       "14806  Tanzania  2017  uniqueid_4                 No            Urban   \n",
       "14807  Tanzania  2017  uniqueid_5                Yes            Urban   \n",
       "\n",
       "      cell_phone_access  household_size  respondent_age gender_of_respondent  \\\n",
       "14803               Yes             1.0            22.0               Female   \n",
       "14804                No             2.0           100.0                 Male   \n",
       "14805               Yes             3.0            19.0               Female   \n",
       "14806                No             4.0            21.0               Female   \n",
       "14807               Yes             3.0            24.0               Female   \n",
       "\n",
       "      the_relathip_with_head        marital_status  level_of_educuation  \\\n",
       "14803                  Child    Divorced/Seperated  Secondary education   \n",
       "14804      Head of Household  Single/Never Married  No formal education   \n",
       "14805      Head of Household               Widowed  No formal education   \n",
       "14806                 Parent  Single/Never Married    Primary education   \n",
       "14807                 Parent    Divorced/Seperated   Tertiary education   \n",
       "\n",
       "                     type_of_job  \n",
       "14803                  No Income  \n",
       "14804              Self employed  \n",
       "14805                  No Income  \n",
       "14806       Remittance Dependent  \n",
       "14807  Formally employed Private  "
      ]
     },
     "metadata": {},
     "execution_count": 96
    }
   ],
   "metadata": {}
  },
  {
   "cell_type": "code",
   "execution_count": 97,
   "source": [
    "# Ugandan respondents\n",
    "bank_uganda = bank[bank['country'] == 'Uganda']\n",
    "bank_uganda.head()"
   ],
   "outputs": [
    {
     "output_type": "execute_result",
     "data": {
      "text/html": [
       "<div>\n",
       "<style scoped>\n",
       "    .dataframe tbody tr th:only-of-type {\n",
       "        vertical-align: middle;\n",
       "    }\n",
       "\n",
       "    .dataframe tbody tr th {\n",
       "        vertical-align: top;\n",
       "    }\n",
       "\n",
       "    .dataframe thead th {\n",
       "        text-align: right;\n",
       "    }\n",
       "</style>\n",
       "<table border=\"1\" class=\"dataframe\">\n",
       "  <thead>\n",
       "    <tr style=\"text-align: right;\">\n",
       "      <th></th>\n",
       "      <th>country</th>\n",
       "      <th>year</th>\n",
       "      <th>uniqueid</th>\n",
       "      <th>has_a_bank_account</th>\n",
       "      <th>type_of_location</th>\n",
       "      <th>cell_phone_access</th>\n",
       "      <th>household_size</th>\n",
       "      <th>respondent_age</th>\n",
       "      <th>gender_of_respondent</th>\n",
       "      <th>the_relathip_with_head</th>\n",
       "      <th>marital_status</th>\n",
       "      <th>level_of_educuation</th>\n",
       "      <th>type_of_job</th>\n",
       "    </tr>\n",
       "  </thead>\n",
       "  <tbody>\n",
       "    <tr>\n",
       "      <th>21423</th>\n",
       "      <td>Uganda</td>\n",
       "      <td>2018</td>\n",
       "      <td>uniqueid_1</td>\n",
       "      <td>No</td>\n",
       "      <td>Rural</td>\n",
       "      <td>No</td>\n",
       "      <td>5.0</td>\n",
       "      <td>32.0</td>\n",
       "      <td>Female</td>\n",
       "      <td>Head of Household</td>\n",
       "      <td>Divorced/Seperated</td>\n",
       "      <td>Primary education</td>\n",
       "      <td>Other Income</td>\n",
       "    </tr>\n",
       "    <tr>\n",
       "      <th>21424</th>\n",
       "      <td>Uganda</td>\n",
       "      <td>2018</td>\n",
       "      <td>uniqueid_2</td>\n",
       "      <td>No</td>\n",
       "      <td>Urban</td>\n",
       "      <td>Yes</td>\n",
       "      <td>8.0</td>\n",
       "      <td>65.0</td>\n",
       "      <td>Female</td>\n",
       "      <td>Head of Household</td>\n",
       "      <td>Widowed</td>\n",
       "      <td>Secondary education</td>\n",
       "      <td>Self employed</td>\n",
       "    </tr>\n",
       "    <tr>\n",
       "      <th>21425</th>\n",
       "      <td>Uganda</td>\n",
       "      <td>2018</td>\n",
       "      <td>uniqueid_3</td>\n",
       "      <td>No</td>\n",
       "      <td>Rural</td>\n",
       "      <td>No</td>\n",
       "      <td>7.0</td>\n",
       "      <td>35.0</td>\n",
       "      <td>Female</td>\n",
       "      <td>Spouse</td>\n",
       "      <td>Married/Living together</td>\n",
       "      <td>Primary education</td>\n",
       "      <td>Self employed</td>\n",
       "    </tr>\n",
       "    <tr>\n",
       "      <th>21426</th>\n",
       "      <td>Uganda</td>\n",
       "      <td>2018</td>\n",
       "      <td>uniqueid_4</td>\n",
       "      <td>No</td>\n",
       "      <td>Rural</td>\n",
       "      <td>No</td>\n",
       "      <td>3.0</td>\n",
       "      <td>25.0</td>\n",
       "      <td>Female</td>\n",
       "      <td>Spouse</td>\n",
       "      <td>Married/Living together</td>\n",
       "      <td>Primary education</td>\n",
       "      <td>Other Income</td>\n",
       "    </tr>\n",
       "    <tr>\n",
       "      <th>21427</th>\n",
       "      <td>Uganda</td>\n",
       "      <td>2018</td>\n",
       "      <td>uniqueid_5</td>\n",
       "      <td>No</td>\n",
       "      <td>Urban</td>\n",
       "      <td>Yes</td>\n",
       "      <td>9.0</td>\n",
       "      <td>18.0</td>\n",
       "      <td>Female</td>\n",
       "      <td>Parent</td>\n",
       "      <td>Single/Never Married</td>\n",
       "      <td>Secondary education</td>\n",
       "      <td>Other Income</td>\n",
       "    </tr>\n",
       "  </tbody>\n",
       "</table>\n",
       "</div>"
      ],
      "text/plain": [
       "      country  year    uniqueid has_a_bank_account type_of_location  \\\n",
       "21423  Uganda  2018  uniqueid_1                 No            Rural   \n",
       "21424  Uganda  2018  uniqueid_2                 No            Urban   \n",
       "21425  Uganda  2018  uniqueid_3                 No            Rural   \n",
       "21426  Uganda  2018  uniqueid_4                 No            Rural   \n",
       "21427  Uganda  2018  uniqueid_5                 No            Urban   \n",
       "\n",
       "      cell_phone_access  household_size  respondent_age gender_of_respondent  \\\n",
       "21423                No             5.0            32.0               Female   \n",
       "21424               Yes             8.0            65.0               Female   \n",
       "21425                No             7.0            35.0               Female   \n",
       "21426                No             3.0            25.0               Female   \n",
       "21427               Yes             9.0            18.0               Female   \n",
       "\n",
       "      the_relathip_with_head           marital_status  level_of_educuation  \\\n",
       "21423      Head of Household       Divorced/Seperated    Primary education   \n",
       "21424      Head of Household                  Widowed  Secondary education   \n",
       "21425                 Spouse  Married/Living together    Primary education   \n",
       "21426                 Spouse  Married/Living together    Primary education   \n",
       "21427                 Parent     Single/Never Married  Secondary education   \n",
       "\n",
       "         type_of_job  \n",
       "21423   Other Income  \n",
       "21424  Self employed  \n",
       "21425  Self employed  \n",
       "21426   Other Income  \n",
       "21427   Other Income  "
      ]
     },
     "metadata": {},
     "execution_count": 97
    }
   ],
   "metadata": {}
  },
  {
   "cell_type": "code",
   "execution_count": 107,
   "source": [
    "# Rwandan respondents\n",
    "bank_rwanda = bank[bank['country'] == 'Rwanda']\n",
    "bank_rwanda.head()"
   ],
   "outputs": [
    {
     "output_type": "execute_result",
     "data": {
      "text/html": [
       "<div>\n",
       "<style scoped>\n",
       "    .dataframe tbody tr th:only-of-type {\n",
       "        vertical-align: middle;\n",
       "    }\n",
       "\n",
       "    .dataframe tbody tr th {\n",
       "        vertical-align: top;\n",
       "    }\n",
       "\n",
       "    .dataframe thead th {\n",
       "        text-align: right;\n",
       "    }\n",
       "</style>\n",
       "<table border=\"1\" class=\"dataframe\">\n",
       "  <thead>\n",
       "    <tr style=\"text-align: right;\">\n",
       "      <th></th>\n",
       "      <th>country</th>\n",
       "      <th>year</th>\n",
       "      <th>uniqueid</th>\n",
       "      <th>has_a_bank_account</th>\n",
       "      <th>type_of_location</th>\n",
       "      <th>cell_phone_access</th>\n",
       "      <th>household_size</th>\n",
       "      <th>respondent_age</th>\n",
       "      <th>gender_of_respondent</th>\n",
       "      <th>the_relathip_with_head</th>\n",
       "      <th>marital_status</th>\n",
       "      <th>level_of_educuation</th>\n",
       "      <th>type_of_job</th>\n",
       "    </tr>\n",
       "  </thead>\n",
       "  <tbody>\n",
       "    <tr>\n",
       "      <th>6068</th>\n",
       "      <td>Rwanda</td>\n",
       "      <td>2016</td>\n",
       "      <td>uniqueid_1</td>\n",
       "      <td>No</td>\n",
       "      <td>Urban</td>\n",
       "      <td>Yes</td>\n",
       "      <td>7.0</td>\n",
       "      <td>18.0</td>\n",
       "      <td>Female</td>\n",
       "      <td>Child</td>\n",
       "      <td>Single/Never Married</td>\n",
       "      <td>Secondary education</td>\n",
       "      <td>Remittance Dependent</td>\n",
       "    </tr>\n",
       "    <tr>\n",
       "      <th>6069</th>\n",
       "      <td>Rwanda</td>\n",
       "      <td>2016</td>\n",
       "      <td>uniqueid_2</td>\n",
       "      <td>Yes</td>\n",
       "      <td>Urban</td>\n",
       "      <td>Yes</td>\n",
       "      <td>4.0</td>\n",
       "      <td>26.0</td>\n",
       "      <td>Female</td>\n",
       "      <td>Spouse</td>\n",
       "      <td>Married/Living together</td>\n",
       "      <td>Secondary education</td>\n",
       "      <td>Self employed</td>\n",
       "    </tr>\n",
       "    <tr>\n",
       "      <th>6070</th>\n",
       "      <td>Rwanda</td>\n",
       "      <td>2016</td>\n",
       "      <td>uniqueid_3</td>\n",
       "      <td>No</td>\n",
       "      <td>Rural</td>\n",
       "      <td>No</td>\n",
       "      <td>6.0</td>\n",
       "      <td>42.0</td>\n",
       "      <td>Male</td>\n",
       "      <td>Head of Household</td>\n",
       "      <td>Married/Living together</td>\n",
       "      <td>No formal education</td>\n",
       "      <td>Farming and Fishing</td>\n",
       "    </tr>\n",
       "    <tr>\n",
       "      <th>6071</th>\n",
       "      <td>Rwanda</td>\n",
       "      <td>2016</td>\n",
       "      <td>uniqueid_4</td>\n",
       "      <td>Yes</td>\n",
       "      <td>Urban</td>\n",
       "      <td>Yes</td>\n",
       "      <td>1.0</td>\n",
       "      <td>41.0</td>\n",
       "      <td>Male</td>\n",
       "      <td>Head of Household</td>\n",
       "      <td>Single/Never Married</td>\n",
       "      <td>Tertiary education</td>\n",
       "      <td>Informally employed</td>\n",
       "    </tr>\n",
       "    <tr>\n",
       "      <th>6072</th>\n",
       "      <td>Rwanda</td>\n",
       "      <td>2016</td>\n",
       "      <td>uniqueid_5</td>\n",
       "      <td>No</td>\n",
       "      <td>Rural</td>\n",
       "      <td>No</td>\n",
       "      <td>4.0</td>\n",
       "      <td>17.0</td>\n",
       "      <td>Female</td>\n",
       "      <td>Child</td>\n",
       "      <td>Single/Never Married</td>\n",
       "      <td>Primary education</td>\n",
       "      <td>Informally employed</td>\n",
       "    </tr>\n",
       "  </tbody>\n",
       "</table>\n",
       "</div>"
      ],
      "text/plain": [
       "     country  year    uniqueid has_a_bank_account type_of_location  \\\n",
       "6068  Rwanda  2016  uniqueid_1                 No            Urban   \n",
       "6069  Rwanda  2016  uniqueid_2                Yes            Urban   \n",
       "6070  Rwanda  2016  uniqueid_3                 No            Rural   \n",
       "6071  Rwanda  2016  uniqueid_4                Yes            Urban   \n",
       "6072  Rwanda  2016  uniqueid_5                 No            Rural   \n",
       "\n",
       "     cell_phone_access  household_size  respondent_age gender_of_respondent  \\\n",
       "6068               Yes             7.0            18.0               Female   \n",
       "6069               Yes             4.0            26.0               Female   \n",
       "6070                No             6.0            42.0                 Male   \n",
       "6071               Yes             1.0            41.0                 Male   \n",
       "6072                No             4.0            17.0               Female   \n",
       "\n",
       "     the_relathip_with_head           marital_status  level_of_educuation  \\\n",
       "6068                  Child     Single/Never Married  Secondary education   \n",
       "6069                 Spouse  Married/Living together  Secondary education   \n",
       "6070      Head of Household  Married/Living together  No formal education   \n",
       "6071      Head of Household     Single/Never Married   Tertiary education   \n",
       "6072                  Child     Single/Never Married    Primary education   \n",
       "\n",
       "               type_of_job  \n",
       "6068  Remittance Dependent  \n",
       "6069         Self employed  \n",
       "6070   Farming and Fishing  \n",
       "6071   Informally employed  \n",
       "6072   Informally employed  "
      ]
     },
     "metadata": {},
     "execution_count": 107
    }
   ],
   "metadata": {}
  },
  {
   "cell_type": "markdown",
   "source": [
    "### Ages and Households in Kenya"
   ],
   "metadata": {}
  },
  {
   "cell_type": "code",
   "execution_count": 109,
   "source": [
    "# Ages\n",
    "bank_kenya['respondent_age'].hist()\n",
    "plt.title('Histogram of Ages in kenya')\n",
    "plt.xlabel('Age')\n",
    "plt.ylabel('Number of respondents')"
   ],
   "outputs": [
    {
     "output_type": "execute_result",
     "data": {
      "text/plain": [
       "Text(0, 0.5, 'Number of respondents')"
      ]
     },
     "metadata": {},
     "execution_count": 109
    },
    {
     "output_type": "display_data",
     "data": {
      "image/png": "[encoded data removed]",
      "text/plain": [
       "<Figure size 432x288 with 1 Axes>"
      ]
     },
     "metadata": {
      "needs_background": "light"
     }
    }
   ],
   "metadata": {}
  },
  {
   "cell_type": "code",
   "execution_count": 108,
   "source": [
    "# Size of household\n",
    "bank_kenya['household_size'].hist()\n",
    "plt.title('Histogram of Household sizes in Kenya')\n",
    "plt.xlabel('Size of household')\n",
    "plt.ylabel('Number of respondents')"
   ],
   "outputs": [
    {
     "output_type": "execute_result",
     "data": {
      "text/plain": [
       "Text(0, 0.5, 'Number of respondents')"
      ]
     },
     "metadata": {},
     "execution_count": 108
    },
    {
     "output_type": "display_data",
     "data": {
      "image/png": "[encoded data removed]",
      "text/plain": [
       "<Figure size 432x288 with 1 Axes>"
      ]
     },
     "metadata": {
      "needs_background": "light"
     }
    }
   ],
   "metadata": {}
  },
  {
   "cell_type": "markdown",
   "source": [
    "### Ages and Households in Uganda"
   ],
   "metadata": {}
  },
  {
   "cell_type": "code",
   "execution_count": 111,
   "source": [
    "# Ages\n",
    "bank_uganda['respondent_age'].hist()\n",
    "plt.title('Histogram of Ages in UG')\n",
    "plt.xlabel('Age')\n",
    "plt.ylabel('Number of respondents')"
   ],
   "outputs": [
    {
     "output_type": "execute_result",
     "data": {
      "text/plain": [
       "Text(0, 0.5, 'Number of respondents')"
      ]
     },
     "metadata": {},
     "execution_count": 111
    },
    {
     "output_type": "display_data",
     "data": {
      "image/png": "[encoded data removed]",
      "text/plain": [
       "<Figure size 432x288 with 1 Axes>"
      ]
     },
     "metadata": {
      "needs_background": "light"
     }
    }
   ],
   "metadata": {}
  },
  {
   "cell_type": "code",
   "execution_count": 112,
   "source": [
    "# Size of household\n",
    "bank_uganda['household_size'].hist()\n",
    "plt.title('Histogram of Household sizes in UG')\n",
    "plt.xlabel('Size of household')\n",
    "plt.ylabel('Number of respondents')"
   ],
   "outputs": [
    {
     "output_type": "execute_result",
     "data": {
      "text/plain": [
       "Text(0, 0.5, 'Number of respondents')"
      ]
     },
     "metadata": {},
     "execution_count": 112
    },
    {
     "output_type": "display_data",
     "data": {
      "image/png": "[encoded data removed]",
      "text/plain": [
       "<Figure size 432x288 with 1 Axes>"
      ]
     },
     "metadata": {
      "needs_background": "light"
     }
    }
   ],
   "metadata": {}
  },
  {
   "cell_type": "markdown",
   "source": [
    "### Ages and Households in Tanzania"
   ],
   "metadata": {}
  },
  {
   "cell_type": "code",
   "execution_count": 113,
   "source": [
    "# Ages\n",
    "bank_tz['respondent_age'].hist()\n",
    "plt.title('Histogram of Ages in TZ')\n",
    "plt.xlabel('Age')\n",
    "plt.ylabel('Number of respondents')"
   ],
   "outputs": [
    {
     "output_type": "execute_result",
     "data": {
      "text/plain": [
       "Text(0, 0.5, 'Number of respondents')"
      ]
     },
     "metadata": {},
     "execution_count": 113
    },
    {
     "output_type": "display_data",
     "data": {
      "image/png": "[encoded data removed]",
      "text/plain": [
       "<Figure size 432x288 with 1 Axes>"
      ]
     },
     "metadata": {
      "needs_background": "light"
     }
    }
   ],
   "metadata": {}
  },
  {
   "cell_type": "code",
   "execution_count": 114,
   "source": [
    "# Size of household\n",
    "bank_tz['household_size'].hist()\n",
    "plt.title('Histogram of Household sizes in TZ')\n",
    "plt.xlabel('Size of household')\n",
    "plt.ylabel('Number of respondents')"
   ],
   "outputs": [
    {
     "output_type": "execute_result",
     "data": {
      "text/plain": [
       "Text(0, 0.5, 'Number of respondents')"
      ]
     },
     "metadata": {},
     "execution_count": 114
    },
    {
     "output_type": "display_data",
     "data": {
      "image/png": "[encoded data removed]",
      "text/plain": [
       "<Figure size 432x288 with 1 Axes>"
      ]
     },
     "metadata": {
      "needs_background": "light"
     }
    }
   ],
   "metadata": {}
  },
  {
   "cell_type": "markdown",
   "source": [
    "## Categorical variables"
   ],
   "metadata": {}
  },
  {
   "cell_type": "markdown",
   "source": [
    "## 1. Frequency table"
   ],
   "metadata": {}
  },
  {
   "cell_type": "code",
   "execution_count": 119,
   "source": [
    "bank.has_a_bank_account.value_counts()\n",
    "\n",
    "# 20,000 people dont have access to a bank account whereas 3,300 people only have access"
   ],
   "outputs": [
    {
     "output_type": "execute_result",
     "data": {
      "text/plain": [
       "No     20046\n",
       "Yes     3297\n",
       "Name: has_a_bank_account, dtype: int64"
      ]
     },
     "metadata": {},
     "execution_count": 119
    }
   ],
   "metadata": {}
  },
  {
   "cell_type": "markdown",
   "source": [
    "## 2. Bar Charts & Pie charts"
   ],
   "metadata": {}
  },
  {
   "cell_type": "markdown",
   "source": [
    "## a) Bank accounts / financial inclucivity in East Africa"
   ],
   "metadata": {}
  },
  {
   "cell_type": "code",
   "execution_count": 130,
   "source": [
    "# Number of respondents with bank accounts\n",
    "bank.groupby('has_a_bank_account')['uniqueid'].count().plot(kind='bar')\n",
    "plt.title('Number of respondents in East africa with bank accounts')\n",
    "plt.xlabel('Do they have an account?')\n",
    "plt.ylabel('Number of respondents')"
   ],
   "outputs": [
    {
     "output_type": "execute_result",
     "data": {
      "text/plain": [
       "Text(0, 0.5, 'Number of respondents')"
      ]
     },
     "metadata": {},
     "execution_count": 130
    },
    {
     "output_type": "display_data",
     "data": {
      "image/png": "[encoded data removed]",
      "text/plain": [
       "<Figure size 432x288 with 1 Axes>"
      ]
     },
     "metadata": {
      "needs_background": "light"
     }
    }
   ],
   "metadata": {}
  },
  {
   "cell_type": "code",
   "execution_count": 140,
   "source": [
    "#Pie chart\n",
    "bank.groupby('has_a_bank_account')['uniqueid'].count().plot(kind='pie', y='has_a_bank_account', autopct = '%1.1f%%', startangle=140)\n",
    "plt.title('Number of respondents in East africa with bank accounts')\n",
    "plt.show()"
   ],
   "outputs": [
    {
     "output_type": "display_data",
     "data": {
      "image/png": "[encoded data removed]",
      "text/plain": [
       "<Figure size 432x288 with 1 Axes>"
      ]
     },
     "metadata": {}
    }
   ],
   "metadata": {}
  },
  {
   "cell_type": "markdown",
   "source": [
    "85% of the respondents do not have access to a bank account"
   ],
   "metadata": {}
  },
  {
   "cell_type": "markdown",
   "source": [
    "## b) Type of location"
   ],
   "metadata": {}
  },
  {
   "cell_type": "code",
   "execution_count": 135,
   "source": [
    "# Type of location where respondents reside\n",
    "bank.groupby('type_of_location')['uniqueid'].count().plot(kind='bar')\n",
    "plt.title('Where do most respondents live?')\n",
    "plt.xlabel('Location type?')\n",
    "plt.ylabel('Number of respondents')\n",
    "plt.show()"
   ],
   "outputs": [
    {
     "output_type": "display_data",
     "data": {
      "image/png": "[encoded data removed]",
      "text/plain": [
       "<Figure size 432x288 with 1 Axes>"
      ]
     },
     "metadata": {
      "needs_background": "light"
     }
    }
   ],
   "metadata": {}
  },
  {
   "cell_type": "code",
   "execution_count": 141,
   "source": [
    "#Pie chart\n",
    "bank.groupby('type_of_location')['uniqueid'].count().plot(kind='pie', y='type_of_location', autopct = '%1.1f%%', startangle=140)\n",
    "plt.title('Location type of respondents')\n",
    "plt.show()"
   ],
   "outputs": [
    {
     "output_type": "display_data",
     "data": {
      "image/png": "[encoded data removed]",
      "text/plain": [
       "<Figure size 432x288 with 1 Axes>"
      ]
     },
     "metadata": {}
    }
   ],
   "metadata": {}
  },
  {
   "cell_type": "markdown",
   "source": [
    "Most people (61%) in East African countries live in rural areas"
   ],
   "metadata": {}
  },
  {
   "cell_type": "markdown",
   "source": [
    "## c) Cell Phone Access"
   ],
   "metadata": {}
  },
  {
   "cell_type": "code",
   "execution_count": 134,
   "source": [
    "# Number of respondents with bank accounts\n",
    "bank.groupby('cell_phone_access')['uniqueid'].count().plot(kind='bar')\n",
    "plt.title('Number of respondents in East africa with a mobile phone')\n",
    "plt.xlabel('Do they have a phone?')\n",
    "plt.ylabel('Number of respondents')\n",
    "plt.show()"
   ],
   "outputs": [
    {
     "output_type": "display_data",
     "data": {
      "image/png": "[encoded data removed]",
      "text/plain": [
       "<Figure size 432x288 with 1 Axes>"
      ]
     },
     "metadata": {
      "needs_background": "light"
     }
    }
   ],
   "metadata": {}
  },
  {
   "cell_type": "code",
   "execution_count": 142,
   "source": [
    "#Pie chart\n",
    "bank.groupby('cell_phone_access')['uniqueid'].count().plot(kind='pie', y='cell_phone_access', autopct = '%1.1f%%', startangle=140)\n",
    "plt.title('Mobile phone access')\n",
    "plt.show()"
   ],
   "outputs": [
    {
     "output_type": "display_data",
     "data": {
      "image/png": "[encoded data removed]",
      "text/plain": [
       "<Figure size 432x288 with 1 Axes>"
      ]
     },
     "metadata": {}
    }
   ],
   "metadata": {}
  },
  {
   "cell_type": "markdown",
   "source": [
    "73% of respondents have a cell phone"
   ],
   "metadata": {}
  },
  {
   "cell_type": "markdown",
   "source": [
    "## d) Gender"
   ],
   "metadata": {}
  },
  {
   "cell_type": "code",
   "execution_count": 144,
   "source": [
    "# Gender\n",
    "bank.groupby('gender_of_respondent')['uniqueid'].count().plot(kind='bar')\n",
    "plt.title('Gender of respondents')\n",
    "plt.xlabel('Gender')\n",
    "plt.ylabel('Number of respondents')\n",
    "plt.show()"
   ],
   "outputs": [
    {
     "output_type": "display_data",
     "data": {
      "image/png": "[encoded data removed]",
      "text/plain": [
       "<Figure size 432x288 with 1 Axes>"
      ]
     },
     "metadata": {
      "needs_background": "light"
     }
    }
   ],
   "metadata": {}
  },
  {
   "cell_type": "code",
   "execution_count": 145,
   "source": [
    "#Pie chart\n",
    "bank.groupby('gender_of_respondent')['uniqueid'].count().plot(kind='pie', y='gender_of_respondent', autopct = '%1.1f%%', startangle=140)\n",
    "plt.title('Gender disperity')\n",
    "plt.show()"
   ],
   "outputs": [
    {
     "output_type": "display_data",
     "data": {
      "image/png": "[encoded data removed]",
      "text/plain": [
       "<Figure size 432x288 with 1 Axes>"
      ]
     },
     "metadata": {}
    }
   ],
   "metadata": {}
  },
  {
   "cell_type": "markdown",
   "source": [
    "59% of the respondents were females"
   ],
   "metadata": {}
  },
  {
   "cell_type": "markdown",
   "source": [
    "## e) Marital status"
   ],
   "metadata": {}
  },
  {
   "cell_type": "code",
   "execution_count": 147,
   "source": [
    "# Marital status\n",
    "bank.groupby('marital_status')['uniqueid'].count().sort_values(ascending=False).plot(kind='bar')\n",
    "plt.title('Marital status')\n",
    "plt.xlabel('Marital status')\n",
    "plt.ylabel('Number of respondents')\n",
    "plt.show()"
   ],
   "outputs": [
    {
     "output_type": "display_data",
     "data": {
      "image/png": "[encoded data removed]",
      "text/plain": [
       "<Figure size 432x288 with 1 Axes>"
      ]
     },
     "metadata": {
      "needs_background": "light"
     }
    }
   ],
   "metadata": {}
  },
  {
   "cell_type": "markdown",
   "source": [
    " Most of the respondents are married"
   ],
   "metadata": {}
  },
  {
   "cell_type": "markdown",
   "source": [
    "## f) Level of education"
   ],
   "metadata": {}
  },
  {
   "cell_type": "code",
   "execution_count": 151,
   "source": [
    "# Education\n",
    "bank.groupby('level_of_educuation')['uniqueid'].count().sort_values(ascending=False).plot(kind='bar')\n",
    "plt.title('Level of education')\n",
    "plt.xlabel('Level of education')\n",
    "plt.ylabel('Number of respondents')\n",
    "plt.show()"
   ],
   "outputs": [
    {
     "output_type": "display_data",
     "data": {
      "image/png": "[encoded data removed]",
      "text/plain": [
       "<Figure size 432x288 with 1 Axes>"
      ]
     },
     "metadata": {
      "needs_background": "light"
     }
    }
   ],
   "metadata": {}
  },
  {
   "cell_type": "markdown",
   "source": [
    "Most of the respondents have only primary education"
   ],
   "metadata": {}
  },
  {
   "cell_type": "markdown",
   "source": [
    "## g) Type of job"
   ],
   "metadata": {}
  },
  {
   "cell_type": "code",
   "execution_count": 153,
   "source": [
    "# Education\n",
    "bank.groupby('type_of_job')['uniqueid'].count().sort_values(ascending=False).plot(kind='bar')\n",
    "plt.title('Type of job')\n",
    "plt.xlabel('Type of job')\n",
    "plt.ylabel('Number of respondents')\n",
    "plt.show()"
   ],
   "outputs": [
    {
     "output_type": "display_data",
     "data": {
      "image/png": "[encoded data removed]",
      "text/plain": [
       "<Figure size 432x288 with 1 Axes>"
      ]
     },
     "metadata": {
      "needs_background": "light"
     }
    }
   ],
   "metadata": {}
  },
  {
   "cell_type": "markdown",
   "source": [
    "Most of the respondents are self employed"
   ],
   "metadata": {}
  },
  {
   "cell_type": "markdown",
   "source": [
    "# Bivariate Analysis"
   ],
   "metadata": {}
  },
  {
   "cell_type": "markdown",
   "source": [
    "-> Comparison of two columns/records of data"
   ],
   "metadata": {}
  },
  {
   "cell_type": "markdown",
   "source": [
    "## 1. Numerical vs numerical"
   ],
   "metadata": {}
  },
  {
   "cell_type": "markdown",
   "source": [
    "## -> Relationship and correlation between respondent's age and the size of his/her household"
   ],
   "metadata": {}
  },
  {
   "cell_type": "markdown",
   "source": [
    "### Scatter Plot"
   ],
   "metadata": {}
  },
  {
   "cell_type": "code",
   "execution_count": 177,
   "source": [
    "# scatter plot\n",
    "\n",
    "# using uganda as it has the least number of records\n",
    "bank_uganda.plot.scatter(x='household_size', y='respondent_age')"
   ],
   "outputs": [
    {
     "output_type": "execute_result",
     "data": {
      "text/plain": [
       "<AxesSubplot:xlabel='household_size', ylabel='respondent_age'>"
      ]
     },
     "metadata": {},
     "execution_count": 177
    },
    {
     "output_type": "display_data",
     "data": {
      "image/png": "[encoded data removed]",
      "text/plain": [
       "<Figure size 432x288 with 1 Axes>"
      ]
     },
     "metadata": {
      "needs_background": "light"
     }
    }
   ],
   "metadata": {}
  },
  {
   "cell_type": "markdown",
   "source": [
    "### Correlation"
   ],
   "metadata": {}
  },
  {
   "cell_type": "code",
   "execution_count": 164,
   "source": [
    "# Correlation of the respondent's age and the size of household he/she lives in\n",
    "bank['respondent_age'].corr(bank['household_size'])"
   ],
   "outputs": [
    {
     "output_type": "execute_result",
     "data": {
      "text/plain": [
       "-0.11970919507762409"
      ]
     },
     "metadata": {},
     "execution_count": 164
    }
   ],
   "metadata": {}
  },
  {
   "cell_type": "markdown",
   "source": [
    "The size of a household has a weak, negative correlation to the age of the respondent"
   ],
   "metadata": {}
  },
  {
   "cell_type": "markdown",
   "source": [
    "### Hexbin"
   ],
   "metadata": {}
  },
  {
   "cell_type": "code",
   "execution_count": 203,
   "source": [
    "bank.plot.hexbin(x='household_size', y='respondent_age')"
   ],
   "outputs": [
    {
     "output_type": "execute_result",
     "data": {
      "text/plain": [
       "<AxesSubplot:xlabel='household_size', ylabel='respondent_age'>"
      ]
     },
     "metadata": {},
     "execution_count": 203
    },
    {
     "output_type": "display_data",
     "data": {
      "image/png": "[encoded data removed]",
      "text/plain": [
       "<Figure size 432x288 with 2 Axes>"
      ]
     },
     "metadata": {
      "needs_background": "light"
     }
    }
   ],
   "metadata": {}
  },
  {
   "cell_type": "markdown",
   "source": [
    "There is no observable relationship between the respondents age and the size of household they live in"
   ],
   "metadata": {}
  },
  {
   "cell_type": "markdown",
   "source": [
    "## 2. Categorical vs Categorical"
   ],
   "metadata": {}
  },
  {
   "cell_type": "markdown",
   "source": [
    "### -> We'll try to see if any of the factors such as age, location, job etc influence whether the respondent has a bank account or not\n",
    "\n",
    "### -> Will use a contigency table and plot out stacked bar graphs and a heatmap for every analysis"
   ],
   "metadata": {}
  },
  {
   "cell_type": "markdown",
   "source": [
    "## a) How many people with cell phones have a bank account"
   ],
   "metadata": {}
  },
  {
   "cell_type": "markdown",
   "source": [
    "### Contingency"
   ],
   "metadata": {}
  },
  {
   "cell_type": "code",
   "execution_count": 211,
   "source": [
    "con_bank_cell = pd.crosstab(bank['has_a_bank_account'], bank['cell_phone_access'])\n",
    "con_bank_cell"
   ],
   "outputs": [
    {
     "output_type": "execute_result",
     "data": {
      "text/html": [
       "<div>\n",
       "<style scoped>\n",
       "    .dataframe tbody tr th:only-of-type {\n",
       "        vertical-align: middle;\n",
       "    }\n",
       "\n",
       "    .dataframe tbody tr th {\n",
       "        vertical-align: top;\n",
       "    }\n",
       "\n",
       "    .dataframe thead th {\n",
       "        text-align: right;\n",
       "    }\n",
       "</style>\n",
       "<table border=\"1\" class=\"dataframe\">\n",
       "  <thead>\n",
       "    <tr style=\"text-align: right;\">\n",
       "      <th>cell_phone_access</th>\n",
       "      <th>No</th>\n",
       "      <th>Yes</th>\n",
       "    </tr>\n",
       "    <tr>\n",
       "      <th>has_a_bank_account</th>\n",
       "      <th></th>\n",
       "      <th></th>\n",
       "    </tr>\n",
       "  </thead>\n",
       "  <tbody>\n",
       "    <tr>\n",
       "      <th>No</th>\n",
       "      <td>5905</td>\n",
       "      <td>14141</td>\n",
       "    </tr>\n",
       "    <tr>\n",
       "      <th>Yes</th>\n",
       "      <td>104</td>\n",
       "      <td>3193</td>\n",
       "    </tr>\n",
       "  </tbody>\n",
       "</table>\n",
       "</div>"
      ],
      "text/plain": [
       "cell_phone_access     No    Yes\n",
       "has_a_bank_account             \n",
       "No                  5905  14141\n",
       "Yes                  104   3193"
      ]
     },
     "metadata": {},
     "execution_count": 211
    }
   ],
   "metadata": {}
  },
  {
   "cell_type": "markdown",
   "source": [
    "### Stacked bar chart"
   ],
   "metadata": {}
  },
  {
   "cell_type": "code",
   "execution_count": 209,
   "source": [
    "con_bank_cell.plot(kind='bar', stacked=True)\n"
   ],
   "outputs": [
    {
     "output_type": "execute_result",
     "data": {
      "text/plain": [
       "<AxesSubplot:xlabel='has_a_bank_account'>"
      ]
     },
     "metadata": {},
     "execution_count": 209
    },
    {
     "output_type": "display_data",
     "data": {
      "image/png": "[encoded data removed]",
      "text/plain": [
       "<Figure size 432x288 with 1 Axes>"
      ]
     },
     "metadata": {
      "needs_background": "light"
     }
    }
   ],
   "metadata": {}
  },
  {
   "cell_type": "markdown",
   "source": [
    "Most people with a mobile phone have bank accounts"
   ],
   "metadata": {}
  },
  {
   "cell_type": "markdown",
   "source": [
    "### Heatmap"
   ],
   "metadata": {}
  },
  {
   "cell_type": "code",
   "execution_count": 212,
   "source": [
    "sns.heatmap(con_bank_cell)"
   ],
   "outputs": [
    {
     "output_type": "execute_result",
     "data": {
      "text/plain": [
       "<AxesSubplot:xlabel='cell_phone_access', ylabel='has_a_bank_account'>"
      ]
     },
     "metadata": {},
     "execution_count": 212
    },
    {
     "output_type": "display_data",
     "data": {
      "image/png": "[encoded data removed]",
      "text/plain": [
       "<Figure size 432x288 with 2 Axes>"
      ]
     },
     "metadata": {
      "needs_background": "light"
     }
    }
   ],
   "metadata": {}
  },
  {
   "cell_type": "markdown",
   "source": [
    "### Line graph"
   ],
   "metadata": {}
  },
  {
   "cell_type": "code",
   "execution_count": 234,
   "source": [
    "# Line graph\n",
    "con_bank_cell.sort_values(by='has_a_bank_account', ascending=False).plot()"
   ],
   "outputs": [
    {
     "output_type": "execute_result",
     "data": {
      "text/plain": [
       "<AxesSubplot:xlabel='has_a_bank_account'>"
      ]
     },
     "metadata": {},
     "execution_count": 234
    },
    {
     "output_type": "display_data",
     "data": {
      "image/png": "[encoded data removed]",
      "text/plain": [
       "<Figure size 432x288 with 1 Axes>"
      ]
     },
     "metadata": {
      "needs_background": "light"
     }
    }
   ],
   "metadata": {}
  },
  {
   "cell_type": "markdown",
   "source": [
    "## b) Which gender has the most bank accounts"
   ],
   "metadata": {}
  },
  {
   "cell_type": "code",
   "execution_count": 215,
   "source": [
    "con_bank_gender = pd.crosstab(bank['has_a_bank_account'], bank['gender_of_respondent'])\n",
    "con_bank_gender"
   ],
   "outputs": [
    {
     "output_type": "execute_result",
     "data": {
      "text/html": [
       "<div>\n",
       "<style scoped>\n",
       "    .dataframe tbody tr th:only-of-type {\n",
       "        vertical-align: middle;\n",
       "    }\n",
       "\n",
       "    .dataframe tbody tr th {\n",
       "        vertical-align: top;\n",
       "    }\n",
       "\n",
       "    .dataframe thead th {\n",
       "        text-align: right;\n",
       "    }\n",
       "</style>\n",
       "<table border=\"1\" class=\"dataframe\">\n",
       "  <thead>\n",
       "    <tr style=\"text-align: right;\">\n",
       "      <th>gender_of_respondent</th>\n",
       "      <th>Female</th>\n",
       "      <th>Male</th>\n",
       "    </tr>\n",
       "    <tr>\n",
       "      <th>has_a_bank_account</th>\n",
       "      <th></th>\n",
       "      <th></th>\n",
       "    </tr>\n",
       "  </thead>\n",
       "  <tbody>\n",
       "    <tr>\n",
       "      <th>No</th>\n",
       "      <td>12287</td>\n",
       "      <td>7759</td>\n",
       "    </tr>\n",
       "    <tr>\n",
       "      <th>Yes</th>\n",
       "      <td>1480</td>\n",
       "      <td>1817</td>\n",
       "    </tr>\n",
       "  </tbody>\n",
       "</table>\n",
       "</div>"
      ],
      "text/plain": [
       "gender_of_respondent  Female  Male\n",
       "has_a_bank_account                \n",
       "No                     12287  7759\n",
       "Yes                     1480  1817"
      ]
     },
     "metadata": {},
     "execution_count": 215
    }
   ],
   "metadata": {}
  },
  {
   "cell_type": "markdown",
   "source": [
    "### Stacked bar graph"
   ],
   "metadata": {}
  },
  {
   "cell_type": "code",
   "execution_count": 214,
   "source": [
    "con_bank_gender.plot(kind='bar', stacked=True, )"
   ],
   "outputs": [
    {
     "output_type": "execute_result",
     "data": {
      "text/plain": [
       "<AxesSubplot:xlabel='has_a_bank_account'>"
      ]
     },
     "metadata": {},
     "execution_count": 214
    },
    {
     "output_type": "display_data",
     "data": {
      "image/png": "[encoded data removed]",
      "text/plain": [
       "<Figure size 432x288 with 1 Axes>"
      ]
     },
     "metadata": {
      "needs_background": "light"
     }
    }
   ],
   "metadata": {}
  },
  {
   "cell_type": "markdown",
   "source": [
    "In the naked eye it looks fairly balanced but males have most bank accounts over females."
   ],
   "metadata": {}
  },
  {
   "cell_type": "markdown",
   "source": [
    "### Heatmap"
   ],
   "metadata": {}
  },
  {
   "cell_type": "code",
   "execution_count": 218,
   "source": [
    "sns.heatmap(con_bank_gender, annot=True)\n"
   ],
   "outputs": [
    {
     "output_type": "execute_result",
     "data": {
      "text/plain": [
       "<AxesSubplot:xlabel='gender_of_respondent', ylabel='has_a_bank_account'>"
      ]
     },
     "metadata": {},
     "execution_count": 218
    },
    {
     "output_type": "display_data",
     "data": {
      "image/png": "[encoded data removed]",
      "text/plain": [
       "<Figure size 432x288 with 2 Axes>"
      ]
     },
     "metadata": {
      "needs_background": "light"
     }
    }
   ],
   "metadata": {}
  },
  {
   "cell_type": "markdown",
   "source": [
    "## c) Level of education of people with bank accounts and those without "
   ],
   "metadata": {}
  },
  {
   "cell_type": "code",
   "execution_count": 223,
   "source": [
    "con_bank_school = pd.crosstab(bank['level_of_educuation'], bank['has_a_bank_account'])\n",
    "con_bank_school"
   ],
   "outputs": [
    {
     "output_type": "execute_result",
     "data": {
      "text/html": [
       "<div>\n",
       "<style scoped>\n",
       "    .dataframe tbody tr th:only-of-type {\n",
       "        vertical-align: middle;\n",
       "    }\n",
       "\n",
       "    .dataframe tbody tr th {\n",
       "        vertical-align: top;\n",
       "    }\n",
       "\n",
       "    .dataframe thead th {\n",
       "        text-align: right;\n",
       "    }\n",
       "</style>\n",
       "<table border=\"1\" class=\"dataframe\">\n",
       "  <thead>\n",
       "    <tr style=\"text-align: right;\">\n",
       "      <th>has_a_bank_account</th>\n",
       "      <th>No</th>\n",
       "      <th>Yes</th>\n",
       "    </tr>\n",
       "    <tr>\n",
       "      <th>level_of_educuation</th>\n",
       "      <th></th>\n",
       "      <th></th>\n",
       "    </tr>\n",
       "  </thead>\n",
       "  <tbody>\n",
       "    <tr>\n",
       "      <th>6</th>\n",
       "      <td>22</td>\n",
       "      <td>5</td>\n",
       "    </tr>\n",
       "    <tr>\n",
       "      <th>No formal education</th>\n",
       "      <td>4291</td>\n",
       "      <td>176</td>\n",
       "    </tr>\n",
       "    <tr>\n",
       "      <th>Other/Dont know/RTA</th>\n",
       "      <td>2</td>\n",
       "      <td>6</td>\n",
       "    </tr>\n",
       "    <tr>\n",
       "      <th>Primary education</th>\n",
       "      <td>11606</td>\n",
       "      <td>1083</td>\n",
       "    </tr>\n",
       "    <tr>\n",
       "      <th>Secondary education</th>\n",
       "      <td>3226</td>\n",
       "      <td>981</td>\n",
       "    </tr>\n",
       "    <tr>\n",
       "      <th>Tertiary education</th>\n",
       "      <td>554</td>\n",
       "      <td>590</td>\n",
       "    </tr>\n",
       "    <tr>\n",
       "      <th>Vocational/Specialised training</th>\n",
       "      <td>345</td>\n",
       "      <td>456</td>\n",
       "    </tr>\n",
       "  </tbody>\n",
       "</table>\n",
       "</div>"
      ],
      "text/plain": [
       "has_a_bank_account                  No   Yes\n",
       "level_of_educuation                         \n",
       "6                                   22     5\n",
       "No formal education               4291   176\n",
       "Other/Dont know/RTA                  2     6\n",
       "Primary education                11606  1083\n",
       "Secondary education               3226   981\n",
       "Tertiary education                 554   590\n",
       "Vocational/Specialised training    345   456"
      ]
     },
     "metadata": {},
     "execution_count": 223
    }
   ],
   "metadata": {}
  },
  {
   "cell_type": "markdown",
   "source": [
    "### Stacked bar graph"
   ],
   "metadata": {}
  },
  {
   "cell_type": "code",
   "execution_count": 224,
   "source": [
    "con_bank_school.plot(kind='bar', stacked=True)"
   ],
   "outputs": [
    {
     "output_type": "execute_result",
     "data": {
      "text/plain": [
       "<AxesSubplot:xlabel='level_of_educuation'>"
      ]
     },
     "metadata": {},
     "execution_count": 224
    },
    {
     "output_type": "display_data",
     "data": {
      "image/png": "[encoded data removed]",
      "text/plain": [
       "<Figure size 432x288 with 1 Axes>"
      ]
     },
     "metadata": {
      "needs_background": "light"
     }
    }
   ],
   "metadata": {}
  },
  {
   "cell_type": "markdown",
   "source": [
    "Most people with bank accounts went to primary school and dropped out"
   ],
   "metadata": {}
  },
  {
   "cell_type": "code",
   "execution_count": 247,
   "source": [
    "# Line graph\n",
    "\n",
    "con_bank_school.sort_values(by='level_of_educuation', ascending=True).plot()"
   ],
   "outputs": [
    {
     "output_type": "execute_result",
     "data": {
      "text/plain": [
       "<AxesSubplot:xlabel='level_of_educuation'>"
      ]
     },
     "metadata": {},
     "execution_count": 247
    },
    {
     "output_type": "display_data",
     "data": {
      "image/png": "[encoded data removed]",
      "text/plain": [
       "<Figure size 432x288 with 1 Axes>"
      ]
     },
     "metadata": {
      "needs_background": "light"
     }
    }
   ],
   "metadata": {}
  },
  {
   "cell_type": "markdown",
   "source": [
    "## d) which type of job is most popular among persons with bank accounts"
   ],
   "metadata": {}
  },
  {
   "cell_type": "code",
   "execution_count": 252,
   "source": [
    "con_bank_job = pd.crosstab(bank['type_of_job'], bank['has_a_bank_account']).sort_values(by='type_of_job', ascending=False)\n",
    "con_bank_job"
   ],
   "outputs": [
    {
     "output_type": "execute_result",
     "data": {
      "text/html": [
       "<div>\n",
       "<style scoped>\n",
       "    .dataframe tbody tr th:only-of-type {\n",
       "        vertical-align: middle;\n",
       "    }\n",
       "\n",
       "    .dataframe tbody tr th {\n",
       "        vertical-align: top;\n",
       "    }\n",
       "\n",
       "    .dataframe thead th {\n",
       "        text-align: right;\n",
       "    }\n",
       "</style>\n",
       "<table border=\"1\" class=\"dataframe\">\n",
       "  <thead>\n",
       "    <tr style=\"text-align: right;\">\n",
       "      <th>has_a_bank_account</th>\n",
       "      <th>No</th>\n",
       "      <th>Yes</th>\n",
       "    </tr>\n",
       "    <tr>\n",
       "      <th>type_of_job</th>\n",
       "      <th></th>\n",
       "      <th></th>\n",
       "    </tr>\n",
       "  </thead>\n",
       "  <tbody>\n",
       "    <tr>\n",
       "      <th>Self employed</th>\n",
       "      <td>5517</td>\n",
       "      <td>844</td>\n",
       "    </tr>\n",
       "    <tr>\n",
       "      <th>Remittance Dependent</th>\n",
       "      <td>2269</td>\n",
       "      <td>240</td>\n",
       "    </tr>\n",
       "    <tr>\n",
       "      <th>Other Income</th>\n",
       "      <td>881</td>\n",
       "      <td>196</td>\n",
       "    </tr>\n",
       "    <tr>\n",
       "      <th>No Income</th>\n",
       "      <td>605</td>\n",
       "      <td>13</td>\n",
       "    </tr>\n",
       "    <tr>\n",
       "      <th>Informally employed</th>\n",
       "      <td>5110</td>\n",
       "      <td>440</td>\n",
       "    </tr>\n",
       "    <tr>\n",
       "      <th>Government Dependent</th>\n",
       "      <td>197</td>\n",
       "      <td>50</td>\n",
       "    </tr>\n",
       "    <tr>\n",
       "      <th>Formally employed Private</th>\n",
       "      <td>481</td>\n",
       "      <td>567</td>\n",
       "    </tr>\n",
       "    <tr>\n",
       "      <th>Formally employed Government</th>\n",
       "      <td>87</td>\n",
       "      <td>299</td>\n",
       "    </tr>\n",
       "    <tr>\n",
       "      <th>Farming and Fishing</th>\n",
       "      <td>4788</td>\n",
       "      <td>634</td>\n",
       "    </tr>\n",
       "    <tr>\n",
       "      <th>Dont Know/Refuse to answer</th>\n",
       "      <td>111</td>\n",
       "      <td>14</td>\n",
       "    </tr>\n",
       "  </tbody>\n",
       "</table>\n",
       "</div>"
      ],
      "text/plain": [
       "has_a_bank_account              No  Yes\n",
       "type_of_job                            \n",
       "Self employed                 5517  844\n",
       "Remittance Dependent          2269  240\n",
       "Other Income                   881  196\n",
       "No Income                      605   13\n",
       "Informally employed           5110  440\n",
       "Government Dependent           197   50\n",
       "Formally employed Private      481  567\n",
       "Formally employed Government    87  299\n",
       "Farming and Fishing           4788  634\n",
       "Dont Know/Refuse to answer     111   14"
      ]
     },
     "metadata": {},
     "execution_count": 252
    }
   ],
   "metadata": {}
  },
  {
   "cell_type": "markdown",
   "source": [
    "### Stacked bar graph"
   ],
   "metadata": {}
  },
  {
   "cell_type": "code",
   "execution_count": 253,
   "source": [
    "con_bank_job.plot(kind='bar', stacked=True)"
   ],
   "outputs": [
    {
     "output_type": "execute_result",
     "data": {
      "text/plain": [
       "<AxesSubplot:xlabel='type_of_job'>"
      ]
     },
     "metadata": {},
     "execution_count": 253
    },
    {
     "output_type": "display_data",
     "data": {
      "image/png": "[encoded data removed]",
      "text/plain": [
       "<Figure size 432x288 with 1 Axes>"
      ]
     },
     "metadata": {
      "needs_background": "light"
     }
    }
   ],
   "metadata": {}
  },
  {
   "cell_type": "markdown",
   "source": [
    "### line graph\n"
   ],
   "metadata": {}
  },
  {
   "cell_type": "code",
   "execution_count": 254,
   "source": [
    "con_bank_job.plot(kind='line')"
   ],
   "outputs": [
    {
     "output_type": "execute_result",
     "data": {
      "text/plain": [
       "<AxesSubplot:xlabel='type_of_job'>"
      ]
     },
     "metadata": {},
     "execution_count": 254
    },
    {
     "output_type": "display_data",
     "data": {
      "image/png": "[encoded data removed]",
      "text/plain": [
       "<Figure size 432x288 with 1 Axes>"
      ]
     },
     "metadata": {
      "needs_background": "light"
     }
    }
   ],
   "metadata": {}
  },
  {
   "cell_type": "markdown",
   "source": [
    "Respondents who are self employed are more likely to own bank accounts"
   ],
   "metadata": {}
  },
  {
   "cell_type": "markdown",
   "source": [
    "# Multivariate analysis"
   ],
   "metadata": {}
  },
  {
   "cell_type": "markdown",
   "source": [
    "# Principal Component Analysis  \n",
    "\n",
    "#### -> To reduce number of features in the dataset"
   ],
   "metadata": {}
  },
  {
   "cell_type": "code",
   "execution_count": 255,
   "source": [
    "# Preview dataset\n",
    "bank.head()"
   ],
   "outputs": [
    {
     "output_type": "execute_result",
     "data": {
      "text/html": [
       "<div>\n",
       "<style scoped>\n",
       "    .dataframe tbody tr th:only-of-type {\n",
       "        vertical-align: middle;\n",
       "    }\n",
       "\n",
       "    .dataframe tbody tr th {\n",
       "        vertical-align: top;\n",
       "    }\n",
       "\n",
       "    .dataframe thead th {\n",
       "        text-align: right;\n",
       "    }\n",
       "</style>\n",
       "<table border=\"1\" class=\"dataframe\">\n",
       "  <thead>\n",
       "    <tr style=\"text-align: right;\">\n",
       "      <th></th>\n",
       "      <th>country</th>\n",
       "      <th>year</th>\n",
       "      <th>uniqueid</th>\n",
       "      <th>has_a_bank_account</th>\n",
       "      <th>type_of_location</th>\n",
       "      <th>cell_phone_access</th>\n",
       "      <th>household_size</th>\n",
       "      <th>respondent_age</th>\n",
       "      <th>gender_of_respondent</th>\n",
       "      <th>the_relathip_with_head</th>\n",
       "      <th>marital_status</th>\n",
       "      <th>level_of_educuation</th>\n",
       "      <th>type_of_job</th>\n",
       "    </tr>\n",
       "  </thead>\n",
       "  <tbody>\n",
       "    <tr>\n",
       "      <th>0</th>\n",
       "      <td>Kenya</td>\n",
       "      <td>2018</td>\n",
       "      <td>uniqueid_1</td>\n",
       "      <td>Yes</td>\n",
       "      <td>Rural</td>\n",
       "      <td>Yes</td>\n",
       "      <td>3.0</td>\n",
       "      <td>24.0</td>\n",
       "      <td>Female</td>\n",
       "      <td>Spouse</td>\n",
       "      <td>Married/Living together</td>\n",
       "      <td>Secondary education</td>\n",
       "      <td>Self employed</td>\n",
       "    </tr>\n",
       "    <tr>\n",
       "      <th>1</th>\n",
       "      <td>Kenya</td>\n",
       "      <td>2018</td>\n",
       "      <td>uniqueid_2</td>\n",
       "      <td>No</td>\n",
       "      <td>Rural</td>\n",
       "      <td>No</td>\n",
       "      <td>5.0</td>\n",
       "      <td>70.0</td>\n",
       "      <td>Female</td>\n",
       "      <td>Head of Household</td>\n",
       "      <td>Widowed</td>\n",
       "      <td>No formal education</td>\n",
       "      <td>Government Dependent</td>\n",
       "    </tr>\n",
       "    <tr>\n",
       "      <th>2</th>\n",
       "      <td>Kenya</td>\n",
       "      <td>2018</td>\n",
       "      <td>uniqueid_3</td>\n",
       "      <td>Yes</td>\n",
       "      <td>Urban</td>\n",
       "      <td>Yes</td>\n",
       "      <td>5.0</td>\n",
       "      <td>26.0</td>\n",
       "      <td>Male</td>\n",
       "      <td>Other relative</td>\n",
       "      <td>Single/Never Married</td>\n",
       "      <td>Vocational/Specialised training</td>\n",
       "      <td>Self employed</td>\n",
       "    </tr>\n",
       "    <tr>\n",
       "      <th>3</th>\n",
       "      <td>Kenya</td>\n",
       "      <td>2018</td>\n",
       "      <td>uniqueid_4</td>\n",
       "      <td>No</td>\n",
       "      <td>Rural</td>\n",
       "      <td>Yes</td>\n",
       "      <td>5.0</td>\n",
       "      <td>34.0</td>\n",
       "      <td>Female</td>\n",
       "      <td>Head of Household</td>\n",
       "      <td>Married/Living together</td>\n",
       "      <td>Primary education</td>\n",
       "      <td>Formally employed Private</td>\n",
       "    </tr>\n",
       "    <tr>\n",
       "      <th>4</th>\n",
       "      <td>Kenya</td>\n",
       "      <td>2018</td>\n",
       "      <td>uniqueid_5</td>\n",
       "      <td>No</td>\n",
       "      <td>Urban</td>\n",
       "      <td>No</td>\n",
       "      <td>8.0</td>\n",
       "      <td>26.0</td>\n",
       "      <td>Male</td>\n",
       "      <td>Child</td>\n",
       "      <td>Single/Never Married</td>\n",
       "      <td>Primary education</td>\n",
       "      <td>Informally employed</td>\n",
       "    </tr>\n",
       "  </tbody>\n",
       "</table>\n",
       "</div>"
      ],
      "text/plain": [
       "  country  year    uniqueid has_a_bank_account type_of_location  \\\n",
       "0   Kenya  2018  uniqueid_1                Yes            Rural   \n",
       "1   Kenya  2018  uniqueid_2                 No            Rural   \n",
       "2   Kenya  2018  uniqueid_3                Yes            Urban   \n",
       "3   Kenya  2018  uniqueid_4                 No            Rural   \n",
       "4   Kenya  2018  uniqueid_5                 No            Urban   \n",
       "\n",
       "  cell_phone_access  household_size  respondent_age gender_of_respondent  \\\n",
       "0               Yes             3.0            24.0               Female   \n",
       "1                No             5.0            70.0               Female   \n",
       "2               Yes             5.0            26.0                 Male   \n",
       "3               Yes             5.0            34.0               Female   \n",
       "4                No             8.0            26.0                 Male   \n",
       "\n",
       "  the_relathip_with_head           marital_status  \\\n",
       "0                 Spouse  Married/Living together   \n",
       "1      Head of Household                  Widowed   \n",
       "2         Other relative     Single/Never Married   \n",
       "3      Head of Household  Married/Living together   \n",
       "4                  Child     Single/Never Married   \n",
       "\n",
       "               level_of_educuation                type_of_job  \n",
       "0              Secondary education              Self employed  \n",
       "1              No formal education       Government Dependent  \n",
       "2  Vocational/Specialised training              Self employed  \n",
       "3                Primary education  Formally employed Private  \n",
       "4                Primary education        Informally employed  "
      ]
     },
     "metadata": {},
     "execution_count": 255
    }
   ],
   "metadata": {}
  },
  {
   "cell_type": "code",
   "execution_count": 263,
   "source": [
    "# Divide data into sets of features and labels\n",
    "\n",
    "X = bank[['respondent_age', 'household_size']]\n",
    "y = bank['has_a_bank_account']\n"
   ],
   "outputs": [],
   "metadata": {}
  },
  {
   "cell_type": "code",
   "execution_count": 264,
   "source": [
    "# Split the data into training set and testing set\n",
    "\n",
    "# Import train test from sklearn \n",
    "from sklearn.model_selection import train_test_split\n",
    "\n",
    "X_train, X_test, y_train, y_test = train_test_split(X, y, test_size=0.2, random_state=0)"
   ],
   "outputs": [],
   "metadata": {}
  },
  {
   "cell_type": "code",
   "execution_count": 266,
   "source": [
    "# test if they are divided on 80% and 20% basis\n",
    "X_train.shape"
   ],
   "outputs": [
    {
     "output_type": "execute_result",
     "data": {
      "text/plain": [
       "(18674, 2)"
      ]
     },
     "metadata": {},
     "execution_count": 266
    }
   ],
   "metadata": {}
  },
  {
   "cell_type": "code",
   "execution_count": 267,
   "source": [
    "X_test.shape"
   ],
   "outputs": [
    {
     "output_type": "execute_result",
     "data": {
      "text/plain": [
       "(4669, 2)"
      ]
     },
     "metadata": {},
     "execution_count": 267
    }
   ],
   "metadata": {}
  },
  {
   "cell_type": "code",
   "execution_count": 269,
   "source": [
    "# Normalization\n",
    "\n",
    "#Import standard scaler\n",
    "from sklearn.preprocessing import StandardScaler\n",
    "\n",
    "sc = StandardScaler()\n",
    "X_train = sc.fit_transform(X_train)\n",
    "X_test = sc.transform(X_test)"
   ],
   "outputs": [],
   "metadata": {}
  },
  {
   "cell_type": "code",
   "execution_count": 272,
   "source": [
    "# New normalized sets\n",
    "pd.DataFrame(X_train)"
   ],
   "outputs": [
    {
     "output_type": "execute_result",
     "data": {
      "text/html": [
       "<div>\n",
       "<style scoped>\n",
       "    .dataframe tbody tr th:only-of-type {\n",
       "        vertical-align: middle;\n",
       "    }\n",
       "\n",
       "    .dataframe tbody tr th {\n",
       "        vertical-align: top;\n",
       "    }\n",
       "\n",
       "    .dataframe thead th {\n",
       "        text-align: right;\n",
       "    }\n",
       "</style>\n",
       "<table border=\"1\" class=\"dataframe\">\n",
       "  <thead>\n",
       "    <tr style=\"text-align: right;\">\n",
       "      <th></th>\n",
       "      <th>0</th>\n",
       "      <th>1</th>\n",
       "    </tr>\n",
       "  </thead>\n",
       "  <tbody>\n",
       "    <tr>\n",
       "      <th>0</th>\n",
       "      <td>-0.654225</td>\n",
       "      <td>0.132571</td>\n",
       "    </tr>\n",
       "    <tr>\n",
       "      <th>1</th>\n",
       "      <td>2.488522</td>\n",
       "      <td>0.570348</td>\n",
       "    </tr>\n",
       "    <tr>\n",
       "      <th>2</th>\n",
       "      <td>-0.835538</td>\n",
       "      <td>0.570348</td>\n",
       "    </tr>\n",
       "    <tr>\n",
       "      <th>3</th>\n",
       "      <td>1.581960</td>\n",
       "      <td>-0.742984</td>\n",
       "    </tr>\n",
       "    <tr>\n",
       "      <th>4</th>\n",
       "      <td>1.219335</td>\n",
       "      <td>0.132571</td>\n",
       "    </tr>\n",
       "    <tr>\n",
       "      <th>...</th>\n",
       "      <td>...</td>\n",
       "      <td>...</td>\n",
       "    </tr>\n",
       "    <tr>\n",
       "      <th>18669</th>\n",
       "      <td>-0.412476</td>\n",
       "      <td>0.132571</td>\n",
       "    </tr>\n",
       "    <tr>\n",
       "      <th>18670</th>\n",
       "      <td>-0.352038</td>\n",
       "      <td>-0.742984</td>\n",
       "    </tr>\n",
       "    <tr>\n",
       "      <th>18671</th>\n",
       "      <td>-0.533351</td>\n",
       "      <td>-0.305206</td>\n",
       "    </tr>\n",
       "    <tr>\n",
       "      <th>18672</th>\n",
       "      <td>-0.352038</td>\n",
       "      <td>0.570348</td>\n",
       "    </tr>\n",
       "    <tr>\n",
       "      <th>18673</th>\n",
       "      <td>1.642397</td>\n",
       "      <td>-0.742984</td>\n",
       "    </tr>\n",
       "  </tbody>\n",
       "</table>\n",
       "<p>18674 rows × 2 columns</p>\n",
       "</div>"
      ],
      "text/plain": [
       "              0         1\n",
       "0     -0.654225  0.132571\n",
       "1      2.488522  0.570348\n",
       "2     -0.835538  0.570348\n",
       "3      1.581960 -0.742984\n",
       "4      1.219335  0.132571\n",
       "...         ...       ...\n",
       "18669 -0.412476  0.132571\n",
       "18670 -0.352038 -0.742984\n",
       "18671 -0.533351 -0.305206\n",
       "18672 -0.352038  0.570348\n",
       "18673  1.642397 -0.742984\n",
       "\n",
       "[18674 rows x 2 columns]"
      ]
     },
     "metadata": {},
     "execution_count": 272
    }
   ],
   "metadata": {}
  },
  {
   "cell_type": "code",
   "execution_count": 273,
   "source": [
    "# same for test set\n",
    "pd.DataFrame(X_test)"
   ],
   "outputs": [
    {
     "output_type": "execute_result",
     "data": {
      "text/html": [
       "<div>\n",
       "<style scoped>\n",
       "    .dataframe tbody tr th:only-of-type {\n",
       "        vertical-align: middle;\n",
       "    }\n",
       "\n",
       "    .dataframe tbody tr th {\n",
       "        vertical-align: top;\n",
       "    }\n",
       "\n",
       "    .dataframe thead th {\n",
       "        text-align: right;\n",
       "    }\n",
       "</style>\n",
       "<table border=\"1\" class=\"dataframe\">\n",
       "  <thead>\n",
       "    <tr style=\"text-align: right;\">\n",
       "      <th></th>\n",
       "      <th>0</th>\n",
       "      <th>1</th>\n",
       "    </tr>\n",
       "  </thead>\n",
       "  <tbody>\n",
       "    <tr>\n",
       "      <th>0</th>\n",
       "      <td>0.373211</td>\n",
       "      <td>1.883681</td>\n",
       "    </tr>\n",
       "    <tr>\n",
       "      <th>1</th>\n",
       "      <td>2.488522</td>\n",
       "      <td>1.008126</td>\n",
       "    </tr>\n",
       "    <tr>\n",
       "      <th>2</th>\n",
       "      <td>0.554523</td>\n",
       "      <td>-1.180761</td>\n",
       "    </tr>\n",
       "    <tr>\n",
       "      <th>3</th>\n",
       "      <td>-0.049851</td>\n",
       "      <td>0.570348</td>\n",
       "    </tr>\n",
       "    <tr>\n",
       "      <th>4</th>\n",
       "      <td>-0.231163</td>\n",
       "      <td>0.132571</td>\n",
       "    </tr>\n",
       "    <tr>\n",
       "      <th>...</th>\n",
       "      <td>...</td>\n",
       "      <td>...</td>\n",
       "    </tr>\n",
       "    <tr>\n",
       "      <th>4664</th>\n",
       "      <td>1.158898</td>\n",
       "      <td>-0.742984</td>\n",
       "    </tr>\n",
       "    <tr>\n",
       "      <th>4665</th>\n",
       "      <td>-0.049851</td>\n",
       "      <td>0.132571</td>\n",
       "    </tr>\n",
       "    <tr>\n",
       "      <th>4666</th>\n",
       "      <td>-0.231163</td>\n",
       "      <td>1.008126</td>\n",
       "    </tr>\n",
       "    <tr>\n",
       "      <th>4667</th>\n",
       "      <td>-1.137725</td>\n",
       "      <td>-0.742984</td>\n",
       "    </tr>\n",
       "    <tr>\n",
       "      <th>4668</th>\n",
       "      <td>0.735836</td>\n",
       "      <td>0.570348</td>\n",
       "    </tr>\n",
       "  </tbody>\n",
       "</table>\n",
       "<p>4669 rows × 2 columns</p>\n",
       "</div>"
      ],
      "text/plain": [
       "             0         1\n",
       "0     0.373211  1.883681\n",
       "1     2.488522  1.008126\n",
       "2     0.554523 -1.180761\n",
       "3    -0.049851  0.570348\n",
       "4    -0.231163  0.132571\n",
       "...        ...       ...\n",
       "4664  1.158898 -0.742984\n",
       "4665 -0.049851  0.132571\n",
       "4666 -0.231163  1.008126\n",
       "4667 -1.137725 -0.742984\n",
       "4668  0.735836  0.570348\n",
       "\n",
       "[4669 rows x 2 columns]"
      ]
     },
     "metadata": {},
     "execution_count": 273
    }
   ],
   "metadata": {}
  },
  {
   "cell_type": "code",
   "execution_count": 274,
   "source": [
    "#Normalization via PCA\n",
    "\n",
    "#Import PCA\n",
    "from sklearn.decomposition import PCA\n",
    "\n",
    "pca = PCA()\n",
    "X_train = pca.fit_transform(X_train)\n",
    "X_test = pca.transform(X_test)"
   ],
   "outputs": [],
   "metadata": {}
  },
  {
   "cell_type": "code",
   "execution_count": 275,
   "source": [
    "# View new sets\n",
    "pd.DataFrame(X_train)"
   ],
   "outputs": [
    {
     "output_type": "execute_result",
     "data": {
      "text/html": [
       "<div>\n",
       "<style scoped>\n",
       "    .dataframe tbody tr th:only-of-type {\n",
       "        vertical-align: middle;\n",
       "    }\n",
       "\n",
       "    .dataframe tbody tr th {\n",
       "        vertical-align: top;\n",
       "    }\n",
       "\n",
       "    .dataframe thead th {\n",
       "        text-align: right;\n",
       "    }\n",
       "</style>\n",
       "<table border=\"1\" class=\"dataframe\">\n",
       "  <thead>\n",
       "    <tr style=\"text-align: right;\">\n",
       "      <th></th>\n",
       "      <th>0</th>\n",
       "      <th>1</th>\n",
       "    </tr>\n",
       "  </thead>\n",
       "  <tbody>\n",
       "    <tr>\n",
       "      <th>0</th>\n",
       "      <td>0.556349</td>\n",
       "      <td>-0.368865</td>\n",
       "    </tr>\n",
       "    <tr>\n",
       "      <th>1</th>\n",
       "      <td>-1.356353</td>\n",
       "      <td>2.162948</td>\n",
       "    </tr>\n",
       "    <tr>\n",
       "      <th>2</th>\n",
       "      <td>0.994112</td>\n",
       "      <td>-0.187517</td>\n",
       "    </tr>\n",
       "    <tr>\n",
       "      <th>3</th>\n",
       "      <td>-1.643984</td>\n",
       "      <td>0.593246</td>\n",
       "    </tr>\n",
       "    <tr>\n",
       "      <th>4</th>\n",
       "      <td>-0.768458</td>\n",
       "      <td>0.955942</td>\n",
       "    </tr>\n",
       "    <tr>\n",
       "      <th>...</th>\n",
       "      <td>...</td>\n",
       "      <td>...</td>\n",
       "    </tr>\n",
       "    <tr>\n",
       "      <th>18669</th>\n",
       "      <td>0.385406</td>\n",
       "      <td>-0.197922</td>\n",
       "    </tr>\n",
       "    <tr>\n",
       "      <th>18670</th>\n",
       "      <td>-0.276440</td>\n",
       "      <td>-0.774298</td>\n",
       "    </tr>\n",
       "    <tr>\n",
       "      <th>18671</th>\n",
       "      <td>0.161322</td>\n",
       "      <td>-0.592949</td>\n",
       "    </tr>\n",
       "    <tr>\n",
       "      <th>18672</th>\n",
       "      <td>0.652226</td>\n",
       "      <td>0.154369</td>\n",
       "    </tr>\n",
       "    <tr>\n",
       "      <th>18673</th>\n",
       "      <td>-1.686719</td>\n",
       "      <td>0.635981</td>\n",
       "    </tr>\n",
       "  </tbody>\n",
       "</table>\n",
       "<p>18674 rows × 2 columns</p>\n",
       "</div>"
      ],
      "text/plain": [
       "              0         1\n",
       "0      0.556349 -0.368865\n",
       "1     -1.356353  2.162948\n",
       "2      0.994112 -0.187517\n",
       "3     -1.643984  0.593246\n",
       "4     -0.768458  0.955942\n",
       "...         ...       ...\n",
       "18669  0.385406 -0.197922\n",
       "18670 -0.276440 -0.774298\n",
       "18671  0.161322 -0.592949\n",
       "18672  0.652226  0.154369\n",
       "18673 -1.686719  0.635981\n",
       "\n",
       "[18674 rows x 2 columns]"
      ]
     },
     "metadata": {},
     "execution_count": 275
    }
   ],
   "metadata": {}
  },
  {
   "cell_type": "code",
   "execution_count": 276,
   "source": [
    "# Variance ratios\n",
    "explained_var = pca.explained_variance_ratio_\n",
    "\n",
    "explained_var"
   ],
   "outputs": [
    {
     "output_type": "execute_result",
     "data": {
      "text/plain": [
       "array([0.55893261, 0.44106739])"
      ]
     },
     "metadata": {},
     "execution_count": 276
    }
   ],
   "metadata": {}
  },
  {
   "cell_type": "code",
   "execution_count": 277,
   "source": [
    "# Using random Forest classifier to make predictions\n",
    "from sklearn.ensemble import RandomForestClassifier\n",
    "\n",
    "classifier = RandomForestClassifier(max_depth=2, random_state=0)\n",
    "classifier.fit(X_train, y_train)"
   ],
   "outputs": [
    {
     "output_type": "execute_result",
     "data": {
      "text/plain": [
       "RandomForestClassifier(max_depth=2, random_state=0)"
      ]
     },
     "metadata": {},
     "execution_count": 277
    }
   ],
   "metadata": {}
  },
  {
   "cell_type": "code",
   "execution_count": 278,
   "source": [
    "# Predicting the results using test set\n",
    "\n",
    "y_pred = classifier.predict(X_test)"
   ],
   "outputs": [],
   "metadata": {}
  },
  {
   "cell_type": "code",
   "execution_count": 279,
   "source": [
    "# Evaluation\n",
    "\n",
    "# testing the algorithm's accuracy\n",
    "from sklearn.metrics import confusion_matrix\n",
    "from sklearn.metrics import accuracy_score\n",
    "\n",
    "print('Accuracy is :', accuracy_score(y_test, y_pred))"
   ],
   "outputs": [
    {
     "output_type": "stream",
     "name": "stdout",
     "text": [
      "Accuracy is : 0.8584279288926965\n"
     ]
    }
   ],
   "metadata": {}
  },
  {
   "cell_type": "markdown",
   "source": [
    "### The accuracy is 85.6%, which is not the most efficient."
   ],
   "metadata": {}
  },
  {
   "cell_type": "code",
   "execution_count": 284,
   "source": [
    "# Work with one principal component\n",
    "\n",
    "from sklearn.decomposition import PCA\n",
    "\n",
    "pca = PCA(n_components=1)\n",
    "X_train = pca.fit_transform(X_train)\n",
    "X_test = pca.transform(X_test)\n",
    "\n",
    "pd.DataFrame(X_test)"
   ],
   "outputs": [
    {
     "output_type": "execute_result",
     "data": {
      "text/html": [
       "<div>\n",
       "<style scoped>\n",
       "    .dataframe tbody tr th:only-of-type {\n",
       "        vertical-align: middle;\n",
       "    }\n",
       "\n",
       "    .dataframe tbody tr th {\n",
       "        vertical-align: top;\n",
       "    }\n",
       "\n",
       "    .dataframe thead th {\n",
       "        text-align: right;\n",
       "    }\n",
       "</style>\n",
       "<table border=\"1\" class=\"dataframe\">\n",
       "  <thead>\n",
       "    <tr style=\"text-align: right;\">\n",
       "      <th></th>\n",
       "      <th>0</th>\n",
       "    </tr>\n",
       "  </thead>\n",
       "  <tbody>\n",
       "    <tr>\n",
       "      <th>0</th>\n",
       "      <td>1.068063</td>\n",
       "    </tr>\n",
       "    <tr>\n",
       "      <th>1</th>\n",
       "      <td>-1.046798</td>\n",
       "    </tr>\n",
       "    <tr>\n",
       "      <th>2</th>\n",
       "      <td>-1.227032</td>\n",
       "    </tr>\n",
       "    <tr>\n",
       "      <th>3</th>\n",
       "      <td>0.438547</td>\n",
       "    </tr>\n",
       "    <tr>\n",
       "      <th>4</th>\n",
       "      <td>0.257199</td>\n",
       "    </tr>\n",
       "    <tr>\n",
       "      <th>...</th>\n",
       "      <td>...</td>\n",
       "    </tr>\n",
       "    <tr>\n",
       "      <th>4664</th>\n",
       "      <td>-1.344833</td>\n",
       "    </tr>\n",
       "    <tr>\n",
       "      <th>4665</th>\n",
       "      <td>0.128992</td>\n",
       "    </tr>\n",
       "    <tr>\n",
       "      <th>4666</th>\n",
       "      <td>0.876310</td>\n",
       "    </tr>\n",
       "    <tr>\n",
       "      <th>4667</th>\n",
       "      <td>0.279124</td>\n",
       "    </tr>\n",
       "    <tr>\n",
       "      <th>4668</th>\n",
       "      <td>-0.117017</td>\n",
       "    </tr>\n",
       "  </tbody>\n",
       "</table>\n",
       "<p>4669 rows × 1 columns</p>\n",
       "</div>"
      ],
      "text/plain": [
       "             0\n",
       "0     1.068063\n",
       "1    -1.046798\n",
       "2    -1.227032\n",
       "3     0.438547\n",
       "4     0.257199\n",
       "...        ...\n",
       "4664 -1.344833\n",
       "4665  0.128992\n",
       "4666  0.876310\n",
       "4667  0.279124\n",
       "4668 -0.117017\n",
       "\n",
       "[4669 rows x 1 columns]"
      ]
     },
     "metadata": {},
     "execution_count": 284
    }
   ],
   "metadata": {}
  },
  {
   "cell_type": "code",
   "execution_count": 285,
   "source": [
    "# Random Forest Classifier\n",
    "from sklearn.ensemble import RandomForestClassifier\n",
    "\n",
    "classifier = RandomForestClassifier(max_depth=2, random_state=0)\n",
    "classifier.fit(X_train, y_train)\n"
   ],
   "outputs": [
    {
     "output_type": "execute_result",
     "data": {
      "text/plain": [
       "RandomForestClassifier(max_depth=2, random_state=0)"
      ]
     },
     "metadata": {},
     "execution_count": 285
    }
   ],
   "metadata": {}
  },
  {
   "cell_type": "code",
   "execution_count": 286,
   "source": [
    "y_pred = classifier.predict(X_test)"
   ],
   "outputs": [],
   "metadata": {}
  },
  {
   "cell_type": "code",
   "execution_count": 287,
   "source": [
    "# Second Evaluation\n",
    "# Evaluation\n",
    "\n",
    "# testing the algorithm's accuracy\n",
    "from sklearn.metrics import confusion_matrix\n",
    "from sklearn.metrics import accuracy_score\n",
    "\n",
    "print('Accuracy is :', accuracy_score(y_test, y_pred))"
   ],
   "outputs": [
    {
     "output_type": "stream",
     "name": "stdout",
     "text": [
      "Accuracy is : 0.8584279288926965\n"
     ]
    }
   ],
   "metadata": {}
  },
  {
   "cell_type": "markdown",
   "source": [
    "### Our PCA's accuracy is still 85.6%"
   ],
   "metadata": {}
  },
  {
   "cell_type": "markdown",
   "source": [
    "# Linear Discriminatory Analysis"
   ],
   "metadata": {}
  },
  {
   "cell_type": "code",
   "execution_count": 289,
   "source": [
    "# see the dataset again\n",
    "bank.head()"
   ],
   "outputs": [
    {
     "output_type": "execute_result",
     "data": {
      "text/html": [
       "<div>\n",
       "<style scoped>\n",
       "    .dataframe tbody tr th:only-of-type {\n",
       "        vertical-align: middle;\n",
       "    }\n",
       "\n",
       "    .dataframe tbody tr th {\n",
       "        vertical-align: top;\n",
       "    }\n",
       "\n",
       "    .dataframe thead th {\n",
       "        text-align: right;\n",
       "    }\n",
       "</style>\n",
       "<table border=\"1\" class=\"dataframe\">\n",
       "  <thead>\n",
       "    <tr style=\"text-align: right;\">\n",
       "      <th></th>\n",
       "      <th>country</th>\n",
       "      <th>year</th>\n",
       "      <th>uniqueid</th>\n",
       "      <th>has_a_bank_account</th>\n",
       "      <th>type_of_location</th>\n",
       "      <th>cell_phone_access</th>\n",
       "      <th>household_size</th>\n",
       "      <th>respondent_age</th>\n",
       "      <th>gender_of_respondent</th>\n",
       "      <th>the_relathip_with_head</th>\n",
       "      <th>marital_status</th>\n",
       "      <th>level_of_educuation</th>\n",
       "      <th>type_of_job</th>\n",
       "    </tr>\n",
       "  </thead>\n",
       "  <tbody>\n",
       "    <tr>\n",
       "      <th>0</th>\n",
       "      <td>Kenya</td>\n",
       "      <td>2018</td>\n",
       "      <td>uniqueid_1</td>\n",
       "      <td>Yes</td>\n",
       "      <td>Rural</td>\n",
       "      <td>Yes</td>\n",
       "      <td>3.0</td>\n",
       "      <td>24.0</td>\n",
       "      <td>Female</td>\n",
       "      <td>Spouse</td>\n",
       "      <td>Married/Living together</td>\n",
       "      <td>Secondary education</td>\n",
       "      <td>Self employed</td>\n",
       "    </tr>\n",
       "    <tr>\n",
       "      <th>1</th>\n",
       "      <td>Kenya</td>\n",
       "      <td>2018</td>\n",
       "      <td>uniqueid_2</td>\n",
       "      <td>No</td>\n",
       "      <td>Rural</td>\n",
       "      <td>No</td>\n",
       "      <td>5.0</td>\n",
       "      <td>70.0</td>\n",
       "      <td>Female</td>\n",
       "      <td>Head of Household</td>\n",
       "      <td>Widowed</td>\n",
       "      <td>No formal education</td>\n",
       "      <td>Government Dependent</td>\n",
       "    </tr>\n",
       "    <tr>\n",
       "      <th>2</th>\n",
       "      <td>Kenya</td>\n",
       "      <td>2018</td>\n",
       "      <td>uniqueid_3</td>\n",
       "      <td>Yes</td>\n",
       "      <td>Urban</td>\n",
       "      <td>Yes</td>\n",
       "      <td>5.0</td>\n",
       "      <td>26.0</td>\n",
       "      <td>Male</td>\n",
       "      <td>Other relative</td>\n",
       "      <td>Single/Never Married</td>\n",
       "      <td>Vocational/Specialised training</td>\n",
       "      <td>Self employed</td>\n",
       "    </tr>\n",
       "    <tr>\n",
       "      <th>3</th>\n",
       "      <td>Kenya</td>\n",
       "      <td>2018</td>\n",
       "      <td>uniqueid_4</td>\n",
       "      <td>No</td>\n",
       "      <td>Rural</td>\n",
       "      <td>Yes</td>\n",
       "      <td>5.0</td>\n",
       "      <td>34.0</td>\n",
       "      <td>Female</td>\n",
       "      <td>Head of Household</td>\n",
       "      <td>Married/Living together</td>\n",
       "      <td>Primary education</td>\n",
       "      <td>Formally employed Private</td>\n",
       "    </tr>\n",
       "    <tr>\n",
       "      <th>4</th>\n",
       "      <td>Kenya</td>\n",
       "      <td>2018</td>\n",
       "      <td>uniqueid_5</td>\n",
       "      <td>No</td>\n",
       "      <td>Urban</td>\n",
       "      <td>No</td>\n",
       "      <td>8.0</td>\n",
       "      <td>26.0</td>\n",
       "      <td>Male</td>\n",
       "      <td>Child</td>\n",
       "      <td>Single/Never Married</td>\n",
       "      <td>Primary education</td>\n",
       "      <td>Informally employed</td>\n",
       "    </tr>\n",
       "  </tbody>\n",
       "</table>\n",
       "</div>"
      ],
      "text/plain": [
       "  country  year    uniqueid has_a_bank_account type_of_location  \\\n",
       "0   Kenya  2018  uniqueid_1                Yes            Rural   \n",
       "1   Kenya  2018  uniqueid_2                 No            Rural   \n",
       "2   Kenya  2018  uniqueid_3                Yes            Urban   \n",
       "3   Kenya  2018  uniqueid_4                 No            Rural   \n",
       "4   Kenya  2018  uniqueid_5                 No            Urban   \n",
       "\n",
       "  cell_phone_access  household_size  respondent_age gender_of_respondent  \\\n",
       "0               Yes             3.0            24.0               Female   \n",
       "1                No             5.0            70.0               Female   \n",
       "2               Yes             5.0            26.0                 Male   \n",
       "3               Yes             5.0            34.0               Female   \n",
       "4                No             8.0            26.0                 Male   \n",
       "\n",
       "  the_relathip_with_head           marital_status  \\\n",
       "0                 Spouse  Married/Living together   \n",
       "1      Head of Household                  Widowed   \n",
       "2         Other relative     Single/Never Married   \n",
       "3      Head of Household  Married/Living together   \n",
       "4                  Child     Single/Never Married   \n",
       "\n",
       "               level_of_educuation                type_of_job  \n",
       "0              Secondary education              Self employed  \n",
       "1              No formal education       Government Dependent  \n",
       "2  Vocational/Specialised training              Self employed  \n",
       "3                Primary education  Formally employed Private  \n",
       "4                Primary education        Informally employed  "
      ]
     },
     "metadata": {},
     "execution_count": 289
    }
   ],
   "metadata": {}
  },
  {
   "cell_type": "code",
   "execution_count": 310,
   "source": [
    "# Divide the dataset into features and labels\n",
    "\n",
    "# Numerical columns in X\n",
    "X = bank.iloc[:, 6: 8].values\n",
    "X"
   ],
   "outputs": [
    {
     "output_type": "execute_result",
     "data": {
      "text/plain": [
       "array([[ 3., 24.],\n",
       "       [ 5., 70.],\n",
       "       [ 5., 26.],\n",
       "       ...,\n",
       "       [ 5., 27.],\n",
       "       [ 7., 30.],\n",
       "       [10., 20.]])"
      ]
     },
     "metadata": {},
     "execution_count": 310
    }
   ],
   "metadata": {}
  },
  {
   "cell_type": "code",
   "execution_count": 318,
   "source": [
    "#Categorical columns in y\n",
    "y = bank.iloc[:, [3]].values\n",
    "y"
   ],
   "outputs": [
    {
     "output_type": "execute_result",
     "data": {
      "text/plain": [
       "array([['Yes'],\n",
       "       ['No'],\n",
       "       ['Yes'],\n",
       "       ...,\n",
       "       ['No'],\n",
       "       ['No'],\n",
       "       ['No']], dtype=object)"
      ]
     },
     "metadata": {},
     "execution_count": 318
    }
   ],
   "metadata": {}
  },
  {
   "cell_type": "code",
   "execution_count": 319,
   "source": [
    "# Divide the data into training and testing sets\n",
    "from sklearn.model_selection import train_test_split\n",
    "X_train, X_test, y_train, y_test = train_test_split(X, y, test_size=0.2, random_state=0)"
   ],
   "outputs": [],
   "metadata": {}
  },
  {
   "cell_type": "code",
   "execution_count": 320,
   "source": [
    "y_test"
   ],
   "outputs": [
    {
     "output_type": "execute_result",
     "data": {
      "text/plain": [
       "array([['No'],\n",
       "       ['No'],\n",
       "       ['No'],\n",
       "       ...,\n",
       "       ['No'],\n",
       "       ['No'],\n",
       "       ['No']], dtype=object)"
      ]
     },
     "metadata": {},
     "execution_count": 320
    }
   ],
   "metadata": {}
  },
  {
   "cell_type": "code",
   "execution_count": 321,
   "source": [
    "# Scaling by standard scaler\n",
    "from sklearn.preprocessing import StandardScaler\n",
    "sc = StandardScaler()\n",
    "X_train = sc.fit_transform(X_train)\n",
    "X_test = sc.transform(X_test)"
   ],
   "outputs": [],
   "metadata": {}
  },
  {
   "cell_type": "code",
   "execution_count": 322,
   "source": [
    "# LDA\n",
    "from sklearn.discriminant_analysis import LinearDiscriminantAnalysis as LDA\n",
    "lda = LDA(n_components=1)\n",
    "\n",
    "# Scale the sets\n",
    "X_train = lda.fit_transform(X_train, y_train)\n",
    "X_test = lda.transform(X_test)"
   ],
   "outputs": [
    {
     "output_type": "stream",
     "name": "stderr",
     "text": [
      "/Users/RyanMburu/opt/anaconda3/lib/python3.8/site-packages/sklearn/utils/validation.py:63: DataConversionWarning: A column-vector y was passed when a 1d array was expected. Please change the shape of y to (n_samples, ), for example using ravel().\n",
      "  return f(*args, **kwargs)\n"
     ]
    }
   ],
   "metadata": {}
  },
  {
   "cell_type": "code",
   "execution_count": 323,
   "source": [
    "# Random Forest Classifier to evaluate LDA's performance\n",
    "\n",
    "from sklearn.ensemble import RandomForestClassifier\n",
    "\n",
    "classifier = RandomForestClassifier(max_depth=2, random_state=0)\n",
    "classifier.fit(X_train, y_train)\n",
    "y_pred = classifier.predict(X_test)"
   ],
   "outputs": [
    {
     "output_type": "stream",
     "name": "stderr",
     "text": [
      "<ipython-input-323-b3de698cffb5>:6: DataConversionWarning: A column-vector y was passed when a 1d array was expected. Please change the shape of y to (n_samples,), for example using ravel().\n",
      "  classifier.fit(X_train, y_train)\n"
     ]
    }
   ],
   "metadata": {}
  },
  {
   "cell_type": "code",
   "execution_count": 325,
   "source": [
    "# Evaluate performance\n",
    "from sklearn.metrics import confusion_matrix\n",
    "from sklearn.metrics import accuracy_score\n",
    "\n",
    "print('LDAs accuraccy is :' + str(accuracy_score(y_test, y_pred)))"
   ],
   "outputs": [
    {
     "output_type": "stream",
     "name": "stdout",
     "text": [
      "LDAs accuraccy is :0.8584279288926965\n"
     ]
    }
   ],
   "metadata": {}
  },
  {
   "cell_type": "markdown",
   "source": [
    "### The Accuracy is 85.6%, same with PCA"
   ],
   "metadata": {}
  },
  {
   "cell_type": "markdown",
   "source": [
    "# Implementing the solution :\n",
    "\n",
    "-> Using the reduction techniques developed above .."
   ],
   "metadata": {}
  },
  {
   "cell_type": "markdown",
   "source": [
    "# Challenging The solution"
   ],
   "metadata": {}
  },
  {
   "cell_type": "markdown",
   "source": [
    "-> The analysis was sufficient but could improve by implementing the modelled Machine learning techniques such as LDA and PCA, so as to prefict our findings\n",
    "\n",
    "-> The analysis, if given more time, could be done country wise, so as to get findings for respective East African countries, instead of the sub-continent as a whole."
   ],
   "metadata": {}
  },
  {
   "cell_type": "code",
   "execution_count": null,
   "source": [],
   "outputs": [],
   "metadata": {}
  }
 ],
 "metadata": {
  "orig_nbformat": 4,
  "language_info": {
   "name": "python",
   "version": "3.8.8",
   "mimetype": "text/x-python",
   "codemirror_mode": {
    "name": "ipython",
    "version": 3
   },
   "pygments_lexer": "ipython3",
   "nbconvert_exporter": "python",
   "file_extension": ".py"
  },
  "kernelspec": {
   "name": "python3",
   "display_name": "Python 3.8.8 64-bit ('base': conda)"
  },
  "interpreter": {
   "hash": "5e33e5004145b98e8222cb2d939e6df70ade89a40d2ac6741c844fb03b1308f9"
  }
 },
 "nbformat": 4,
 "nbformat_minor": 2
}